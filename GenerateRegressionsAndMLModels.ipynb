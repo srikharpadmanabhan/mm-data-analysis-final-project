{
 "cells": [
  {
   "cell_type": "code",
   "execution_count": 2,
   "metadata": {},
   "outputs": [
    {
     "name": "stdout",
     "output_type": "stream",
     "text": [
      "Requirement already satisfied: scipy in /Users/srikharpadmanabhan/.pyenv/versions/3.10.15/lib/python3.10/site-packages (1.14.1)\n",
      "Requirement already satisfied: numpy<2.3,>=1.23.5 in /Users/srikharpadmanabhan/.pyenv/versions/3.10.15/lib/python3.10/site-packages (from scipy) (2.0.2)\n",
      "\n",
      "\u001b[1m[\u001b[0m\u001b[34;49mnotice\u001b[0m\u001b[1;39;49m]\u001b[0m\u001b[39;49m A new release of pip is available: \u001b[0m\u001b[31;49m23.0.1\u001b[0m\u001b[39;49m -> \u001b[0m\u001b[32;49m24.3.1\u001b[0m\n",
      "\u001b[1m[\u001b[0m\u001b[34;49mnotice\u001b[0m\u001b[1;39;49m]\u001b[0m\u001b[39;49m To update, run: \u001b[0m\u001b[32;49mpip install --upgrade pip\u001b[0m\n",
      "Note: you may need to restart the kernel to use updated packages.\n",
      "Requirement already satisfied: matplotlib in /Users/srikharpadmanabhan/.pyenv/versions/3.10.15/lib/python3.10/site-packages (3.9.2)\n",
      "Requirement already satisfied: kiwisolver>=1.3.1 in /Users/srikharpadmanabhan/.pyenv/versions/3.10.15/lib/python3.10/site-packages (from matplotlib) (1.4.7)\n",
      "Requirement already satisfied: fonttools>=4.22.0 in /Users/srikharpadmanabhan/.pyenv/versions/3.10.15/lib/python3.10/site-packages (from matplotlib) (4.55.0)\n",
      "Requirement already satisfied: python-dateutil>=2.7 in /Users/srikharpadmanabhan/.pyenv/versions/3.10.15/lib/python3.10/site-packages (from matplotlib) (2.9.0.post0)\n",
      "Requirement already satisfied: numpy>=1.23 in /Users/srikharpadmanabhan/.pyenv/versions/3.10.15/lib/python3.10/site-packages (from matplotlib) (2.0.2)\n",
      "Requirement already satisfied: pillow>=8 in /Users/srikharpadmanabhan/.pyenv/versions/3.10.15/lib/python3.10/site-packages (from matplotlib) (11.0.0)\n",
      "Requirement already satisfied: contourpy>=1.0.1 in /Users/srikharpadmanabhan/.pyenv/versions/3.10.15/lib/python3.10/site-packages (from matplotlib) (1.3.1)\n",
      "Requirement already satisfied: pyparsing>=2.3.1 in /Users/srikharpadmanabhan/.pyenv/versions/3.10.15/lib/python3.10/site-packages (from matplotlib) (3.2.0)\n",
      "Requirement already satisfied: packaging>=20.0 in /Users/srikharpadmanabhan/.pyenv/versions/3.10.15/lib/python3.10/site-packages (from matplotlib) (24.2)\n",
      "Requirement already satisfied: cycler>=0.10 in /Users/srikharpadmanabhan/.pyenv/versions/3.10.15/lib/python3.10/site-packages (from matplotlib) (0.12.1)\n",
      "Requirement already satisfied: six>=1.5 in /Users/srikharpadmanabhan/.pyenv/versions/3.10.15/lib/python3.10/site-packages (from python-dateutil>=2.7->matplotlib) (1.16.0)\n",
      "\n",
      "\u001b[1m[\u001b[0m\u001b[34;49mnotice\u001b[0m\u001b[1;39;49m]\u001b[0m\u001b[39;49m A new release of pip is available: \u001b[0m\u001b[31;49m23.0.1\u001b[0m\u001b[39;49m -> \u001b[0m\u001b[32;49m24.3.1\u001b[0m\n",
      "\u001b[1m[\u001b[0m\u001b[34;49mnotice\u001b[0m\u001b[1;39;49m]\u001b[0m\u001b[39;49m To update, run: \u001b[0m\u001b[32;49mpip install --upgrade pip\u001b[0m\n",
      "Note: you may need to restart the kernel to use updated packages.\n"
     ]
    }
   ],
   "source": [
    "%pip install scipy\n",
    "%pip install matplotlib"
   ]
  },
  {
   "cell_type": "code",
   "execution_count": 3,
   "metadata": {},
   "outputs": [],
   "source": [
    "import pandas as pd"
   ]
  },
  {
   "cell_type": "code",
   "execution_count": 4,
   "metadata": {},
   "outputs": [
    {
     "data": {
      "text/html": [
       "<div>\n",
       "<style scoped>\n",
       "    .dataframe tbody tr th:only-of-type {\n",
       "        vertical-align: middle;\n",
       "    }\n",
       "\n",
       "    .dataframe tbody tr th {\n",
       "        vertical-align: top;\n",
       "    }\n",
       "\n",
       "    .dataframe thead th {\n",
       "        text-align: right;\n",
       "    }\n",
       "</style>\n",
       "<table border=\"1\" class=\"dataframe\">\n",
       "  <thead>\n",
       "    <tr style=\"text-align: right;\">\n",
       "      <th></th>\n",
       "      <th>year</th>\n",
       "      <th>TEAM 1 Name</th>\n",
       "      <th>TEAM 1 (Team) 538 Power Rating</th>\n",
       "      <th>TEAM 1 (Team) 538 Power Rank</th>\n",
       "      <th>TEAM 1 (Team) K TEMPO RANK</th>\n",
       "      <th>TEAM 1 (Team) KADJ T RANK</th>\n",
       "      <th>TEAM 1 (Team) KO RANK</th>\n",
       "      <th>TEAM 1 (Team) KADJ O RANK</th>\n",
       "      <th>TEAM 1 (Team) KD RANK</th>\n",
       "      <th>TEAM 1 (Team) KADJ D RANK</th>\n",
       "      <th>...</th>\n",
       "      <th>TEAM 2 (Conference) EFF HGT</th>\n",
       "      <th>TEAM 2 (Conference) EXP</th>\n",
       "      <th>TEAM 2 (Conference) TALENT</th>\n",
       "      <th>TEAM 2 (Conference) FT%</th>\n",
       "      <th>TEAM 2 (Conference) OP FT%</th>\n",
       "      <th>TEAM 2 (Conference) PPPO</th>\n",
       "      <th>TEAM 2 (Conference) PPPD</th>\n",
       "      <th>TEAM 2 (Conference) ELITE SOS</th>\n",
       "      <th>TEAM 2 (Conference) WAB</th>\n",
       "      <th>Margin of Victory/Defeat</th>\n",
       "    </tr>\n",
       "  </thead>\n",
       "  <tbody>\n",
       "    <tr>\n",
       "      <th>0</th>\n",
       "      <td>2023</td>\n",
       "      <td>Alabama</td>\n",
       "      <td>92.6</td>\n",
       "      <td>16.0</td>\n",
       "      <td>12</td>\n",
       "      <td>4</td>\n",
       "      <td>32</td>\n",
       "      <td>19</td>\n",
       "      <td>5</td>\n",
       "      <td>3</td>\n",
       "      <td>...</td>\n",
       "      <td>79.379</td>\n",
       "      <td>1.827</td>\n",
       "      <td>1.583</td>\n",
       "      <td>71.7</td>\n",
       "      <td>71.7</td>\n",
       "      <td>1.027</td>\n",
       "      <td>1.086</td>\n",
       "      <td>10.569</td>\n",
       "      <td>-13.1</td>\n",
       "      <td>21</td>\n",
       "    </tr>\n",
       "    <tr>\n",
       "      <th>1</th>\n",
       "      <td>2023</td>\n",
       "      <td>Maryland</td>\n",
       "      <td>84.5</td>\n",
       "      <td>180.0</td>\n",
       "      <td>335</td>\n",
       "      <td>312</td>\n",
       "      <td>56</td>\n",
       "      <td>35</td>\n",
       "      <td>60</td>\n",
       "      <td>33</td>\n",
       "      <td>...</td>\n",
       "      <td>80.522</td>\n",
       "      <td>2.140</td>\n",
       "      <td>55.266</td>\n",
       "      <td>72.5</td>\n",
       "      <td>71.7</td>\n",
       "      <td>1.059</td>\n",
       "      <td>0.978</td>\n",
       "      <td>34.920</td>\n",
       "      <td>2.9</td>\n",
       "      <td>2</td>\n",
       "    </tr>\n",
       "    <tr>\n",
       "      <th>2</th>\n",
       "      <td>2023</td>\n",
       "      <td>College of Charleston</td>\n",
       "      <td>79.8</td>\n",
       "      <td>329.0</td>\n",
       "      <td>44</td>\n",
       "      <td>29</td>\n",
       "      <td>17</td>\n",
       "      <td>70</td>\n",
       "      <td>14</td>\n",
       "      <td>74</td>\n",
       "      <td>...</td>\n",
       "      <td>79.813</td>\n",
       "      <td>2.175</td>\n",
       "      <td>23.515</td>\n",
       "      <td>74.1</td>\n",
       "      <td>74.2</td>\n",
       "      <td>1.058</td>\n",
       "      <td>1.018</td>\n",
       "      <td>23.231</td>\n",
       "      <td>-3.0</td>\n",
       "      <td>-6</td>\n",
       "    </tr>\n",
       "    <tr>\n",
       "      <th>3</th>\n",
       "      <td>2023</td>\n",
       "      <td>Virginia</td>\n",
       "      <td>83.8</td>\n",
       "      <td>205.0</td>\n",
       "      <td>360</td>\n",
       "      <td>360</td>\n",
       "      <td>70</td>\n",
       "      <td>74</td>\n",
       "      <td>38</td>\n",
       "      <td>25</td>\n",
       "      <td>...</td>\n",
       "      <td>79.761</td>\n",
       "      <td>1.913</td>\n",
       "      <td>8.005</td>\n",
       "      <td>72.2</td>\n",
       "      <td>72.1</td>\n",
       "      <td>1.048</td>\n",
       "      <td>1.060</td>\n",
       "      <td>11.283</td>\n",
       "      <td>-11.0</td>\n",
       "      <td>-1</td>\n",
       "    </tr>\n",
       "    <tr>\n",
       "      <th>4</th>\n",
       "      <td>2023</td>\n",
       "      <td>North Carolina St.</td>\n",
       "      <td>81.4</td>\n",
       "      <td>291.0</td>\n",
       "      <td>89</td>\n",
       "      <td>89</td>\n",
       "      <td>28</td>\n",
       "      <td>37</td>\n",
       "      <td>128</td>\n",
       "      <td>85</td>\n",
       "      <td>...</td>\n",
       "      <td>80.679</td>\n",
       "      <td>1.935</td>\n",
       "      <td>54.668</td>\n",
       "      <td>73.5</td>\n",
       "      <td>72.7</td>\n",
       "      <td>1.065</td>\n",
       "      <td>1.019</td>\n",
       "      <td>30.790</td>\n",
       "      <td>-1.0</td>\n",
       "      <td>-9</td>\n",
       "    </tr>\n",
       "  </tbody>\n",
       "</table>\n",
       "<p>5 rows × 244 columns</p>\n",
       "</div>"
      ],
      "text/plain": [
       "   year            TEAM 1 Name  TEAM 1 (Team) 538 Power Rating  \\\n",
       "0  2023                Alabama                            92.6   \n",
       "1  2023               Maryland                            84.5   \n",
       "2  2023  College of Charleston                            79.8   \n",
       "3  2023               Virginia                            83.8   \n",
       "4  2023     North Carolina St.                            81.4   \n",
       "\n",
       "   TEAM 1 (Team) 538 Power Rank  TEAM 1 (Team) K TEMPO RANK  \\\n",
       "0                          16.0                          12   \n",
       "1                         180.0                         335   \n",
       "2                         329.0                          44   \n",
       "3                         205.0                         360   \n",
       "4                         291.0                          89   \n",
       "\n",
       "   TEAM 1 (Team) KADJ T RANK  TEAM 1 (Team) KO RANK  \\\n",
       "0                          4                     32   \n",
       "1                        312                     56   \n",
       "2                         29                     17   \n",
       "3                        360                     70   \n",
       "4                         89                     28   \n",
       "\n",
       "   TEAM 1 (Team) KADJ O RANK  TEAM 1 (Team) KD RANK  \\\n",
       "0                         19                      5   \n",
       "1                         35                     60   \n",
       "2                         70                     14   \n",
       "3                         74                     38   \n",
       "4                         37                    128   \n",
       "\n",
       "   TEAM 1 (Team) KADJ D RANK  ...  TEAM 2 (Conference) EFF HGT  \\\n",
       "0                          3  ...                       79.379   \n",
       "1                         33  ...                       80.522   \n",
       "2                         74  ...                       79.813   \n",
       "3                         25  ...                       79.761   \n",
       "4                         85  ...                       80.679   \n",
       "\n",
       "   TEAM 2 (Conference) EXP  TEAM 2 (Conference) TALENT  \\\n",
       "0                    1.827                       1.583   \n",
       "1                    2.140                      55.266   \n",
       "2                    2.175                      23.515   \n",
       "3                    1.913                       8.005   \n",
       "4                    1.935                      54.668   \n",
       "\n",
       "   TEAM 2 (Conference) FT%  TEAM 2 (Conference) OP FT%  \\\n",
       "0                     71.7                        71.7   \n",
       "1                     72.5                        71.7   \n",
       "2                     74.1                        74.2   \n",
       "3                     72.2                        72.1   \n",
       "4                     73.5                        72.7   \n",
       "\n",
       "   TEAM 2 (Conference) PPPO  TEAM 2 (Conference) PPPD  \\\n",
       "0                     1.027                     1.086   \n",
       "1                     1.059                     0.978   \n",
       "2                     1.058                     1.018   \n",
       "3                     1.048                     1.060   \n",
       "4                     1.065                     1.019   \n",
       "\n",
       "   TEAM 2 (Conference) ELITE SOS  TEAM 2 (Conference) WAB  \\\n",
       "0                         10.569                    -13.1   \n",
       "1                         34.920                      2.9   \n",
       "2                         23.231                     -3.0   \n",
       "3                         11.283                    -11.0   \n",
       "4                         30.790                     -1.0   \n",
       "\n",
       "   Margin of Victory/Defeat  \n",
       "0                        21  \n",
       "1                         2  \n",
       "2                        -6  \n",
       "3                        -1  \n",
       "4                        -9  \n",
       "\n",
       "[5 rows x 244 columns]"
      ]
     },
     "execution_count": 4,
     "metadata": {},
     "output_type": "execute_result"
    }
   ],
   "source": [
    "game_df = pd.read_csv(\"csv_files/games-with-all-stats.csv\")\n",
    "game_df.head()"
   ]
  },
  {
   "cell_type": "code",
   "execution_count": 5,
   "metadata": {},
   "outputs": [],
   "source": [
    "# Y axis remains the same\n",
    "y_axis = \"Margin of Victory/Defeat\"\n",
    "score_differential = game_df[y_axis].to_list()\n",
    "\n"
   ]
  },
  {
   "cell_type": "code",
   "execution_count": 6,
   "metadata": {},
   "outputs": [
    {
     "data": {
      "text/plain": [
       "<Figure size 640x480 with 0 Axes>"
      ]
     },
     "metadata": {},
     "output_type": "display_data"
    }
   ],
   "source": [
    "from Team import Team\n",
    "from LinearRegression import get_line_of_best_fit\n",
    "\n",
    "# Keep track of r_squareds and fields\n",
    "r_squared_list = list()\n",
    "\n",
    "for field in Team.STATS_538_FIELDS:\n",
    "    diff_x = (game_df[\"TEAM 1 \" + field] - game_df[\"TEAM 2 \" + field]).to_list()\n",
    "    x_axis = field.replace(\"(Team) \",\"\") + \" Difference\"\n",
    "    slope, y_intercept, r_squared = get_line_of_best_fit(diff_x, score_differential, x_axis)\n",
    "    \n",
    "    r_squared_list.append((r_squared, field))\n",
    "    \n",
    "\n",
    "\n",
    "    "
   ]
  },
  {
   "cell_type": "code",
   "execution_count": 7,
   "metadata": {},
   "outputs": [
    {
     "data": {
      "text/plain": [
       "<Figure size 640x480 with 0 Axes>"
      ]
     },
     "metadata": {},
     "output_type": "display_data"
    }
   ],
   "source": [
    "for field in Team.KENPOM_FIELDS:\n",
    "    diff_x = (game_df[\"TEAM 1 \" + field] - game_df[\"TEAM 2 \" + field]).to_list()\n",
    "    x_axis = field.replace(\"(Team) \",\"\") + \" Difference\"\n",
    "    slope, y_intercept, r_squared = get_line_of_best_fit(diff_x, score_differential, x_axis)\n",
    "    \n",
    "    r_squared_list.append((r_squared, field))\n",
    "\n"
   ]
  },
  {
   "cell_type": "code",
   "execution_count": 8,
   "metadata": {},
   "outputs": [
    {
     "data": {
      "text/plain": [
       "<Figure size 640x480 with 0 Axes>"
      ]
     },
     "metadata": {},
     "output_type": "display_data"
    }
   ],
   "source": [
    "for field in Team.HISTORIC_TEAM_FIELDS:\n",
    "    diff_x = (game_df[\"TEAM 1 \" + field] - game_df[\"TEAM 2 \" + field]).to_list()\n",
    "    x_axis = field.replace(\"(Historic Team) \",\"\") + \" Difference\"\n",
    "    slope, y_intercept, r_squared = get_line_of_best_fit(diff_x, score_differential, x_axis)\n",
    "    \n",
    "    r_squared_list.append((r_squared, field))"
   ]
  },
  {
   "cell_type": "code",
   "execution_count": 9,
   "metadata": {},
   "outputs": [
    {
     "data": {
      "text/plain": [
       "<Figure size 640x480 with 0 Axes>"
      ]
     },
     "metadata": {},
     "output_type": "display_data"
    }
   ],
   "source": [
    "for field in Team.SHOOTING_SPLITS_FIELDS:\n",
    "    diff_x = (game_df[\"TEAM 1 \" + field] - game_df[\"TEAM 2 \" + field]).to_list()\n",
    "    x_axis = field.replace(\"(Shooting Splits) \",\"\") + \" Difference\"\n",
    "    slope, y_intercept, r_squared = get_line_of_best_fit(diff_x, score_differential, x_axis)\n",
    "    \n",
    "    r_squared_list.append((r_squared, field))\n",
    "\n"
   ]
  },
  {
   "cell_type": "code",
   "execution_count": 10,
   "metadata": {},
   "outputs": [
    {
     "data": {
      "text/plain": [
       "<Figure size 640x480 with 0 Axes>"
      ]
     },
     "metadata": {},
     "output_type": "display_data"
    }
   ],
   "source": [
    "for field in Team.RESUME_FIELDS:\n",
    "    diff_x = (game_df[\"TEAM 1 \" + field] - game_df[\"TEAM 2 \" + field]).to_list()\n",
    "    x_axis = field.replace(\"(Resumes) \",\"\") + \" Difference\"\n",
    "    slope, y_intercept, r_squared = get_line_of_best_fit(diff_x, score_differential, x_axis)\n",
    "    \n",
    "    r_squared_list.append((r_squared, field))\n",
    "\n"
   ]
  },
  {
   "cell_type": "code",
   "execution_count": 11,
   "metadata": {},
   "outputs": [
    {
     "data": {
      "text/plain": [
       "<Figure size 640x480 with 0 Axes>"
      ]
     },
     "metadata": {},
     "output_type": "display_data"
    }
   ],
   "source": [
    "from Conference import Conference\n",
    "\n",
    "for field in Conference.CONFERENCE_FIELDS:\n",
    "    diff_x = (game_df[\"TEAM 1 \" + field] - game_df[\"TEAM 2 \" + field]).to_list()\n",
    "    x_axis = field.replace(\"(Conference) \",\"Conf \") + \" Difference\"\n",
    "    slope, y_intercept, r_squared = get_line_of_best_fit(diff_x, score_differential, x_axis)\n",
    "    \n",
    "    r_squared_list.append((r_squared, field))"
   ]
  },
  {
   "cell_type": "code",
   "execution_count": 12,
   "metadata": {},
   "outputs": [
    {
     "data": {
      "text/plain": [
       "<Figure size 640x480 with 0 Axes>"
      ]
     },
     "metadata": {},
     "output_type": "display_data"
    }
   ],
   "source": [
    "from Seed import Seed\n",
    "\n",
    "for field in Seed.SEED_FIELDS:\n",
    "    diff_x = (game_df[\"TEAM 1 \" + field] - game_df[\"TEAM 2 \" + field]).to_list()\n",
    "    x_axis = field.replace(\"(Seed) \",\"Seed \") + \" Difference\"\n",
    "    slope, y_intercept, r_squared = get_line_of_best_fit(diff_x, score_differential, x_axis)\n",
    "    \n",
    "    r_squared_list.append((r_squared, field))"
   ]
  },
  {
   "cell_type": "code",
   "execution_count": 13,
   "metadata": {},
   "outputs": [
    {
     "data": {
      "text/plain": [
       "([(np.float64(0.37187643701041107), '(Team) 538 Power Rating'),\n",
       "  (np.float64(0.3515500462601976), '(Team) BARTHAG RANK'),\n",
       "  (np.float64(0.3507290123760937), '(Team) BADJ EM RANK'),\n",
       "  (np.float64(0.35072858724847716), '(Team) 538 Power Rank'),\n",
       "  (np.float64(0.3474654573109288), '(Historic Team) 538 Rating median'),\n",
       "  (np.float64(0.344309832611632), '(Historic Team) 538 Rating mean'),\n",
       "  (np.float64(0.34183649931840004), '(Resumes) B POWER'),\n",
       "  (np.float64(0.33716620178488593), '(Team) KADJ EM RANK'),\n",
       "  (np.float64(0.33237068564384664), '(Seed) 538 Mean'),\n",
       "  (np.float64(0.33129068084811963), '(Seed) 538 Median')],\n",
       " [(np.float64(0.2999297772629165), '(Resumes) WAB RANK'),\n",
       "  (np.float64(0.29768466577223807), '(Resumes) NET RPI'),\n",
       "  (np.float64(0.29584144293953374), '(Resumes) ELO'),\n",
       "  (np.float64(0.2946413942020401), '(Team) BADJ O RANK'),\n",
       "  (np.float64(0.292424258581393), '(Resumes) RESUME'),\n",
       "  (np.float64(0.2811269911273579), '(Team) KADJ O RANK'),\n",
       "  (np.float64(0.2724365624013491), '(Conference) BARTHAG'),\n",
       "  (np.float64(0.26258881531963935), '(Conference) BADJ EM'),\n",
       "  (np.float64(0.26236823943002746), '(Conference) BADJ D'),\n",
       "  (np.float64(0.2612092499373358), '(Team) ELITE SOS RANK')])"
      ]
     },
     "execution_count": 13,
     "metadata": {},
     "output_type": "execute_result"
    }
   ],
   "source": [
    "# Sort r_squared list \n",
    "sorted_rsquared_list = sorted(r_squared_list, key=lambda x: x[0], reverse=True)\n",
    "\n",
    "sorted_rsquared_list[:10], sorted_rsquared_list[10:20]"
   ]
  },
  {
   "cell_type": "code",
   "execution_count": 14,
   "metadata": {},
   "outputs": [
    {
     "name": "stdout",
     "output_type": "stream",
     "text": [
      "['TEAM 1 (Team) BARTHAG RANK', 'TEAM 2 (Team) BARTHAG RANK', 'TEAM 1 (Team) BADJ EM RANK', 'TEAM 2 (Team) BADJ EM RANK', 'TEAM 1 (Resumes) B POWER', 'TEAM 2 (Resumes) B POWER', 'TEAM 1 (Team) KADJ EM RANK', 'TEAM 2 (Team) KADJ EM RANK', 'TEAM 1 (Seed) 538 Mean', 'TEAM 2 (Seed) 538 Mean', 'TEAM 1 (Seed) 538 Median', 'TEAM 2 (Seed) 538 Median', 'TEAM 1 (Resumes) WAB RANK', 'TEAM 2 (Resumes) WAB RANK', 'TEAM 1 (Resumes) NET RPI', 'TEAM 2 (Resumes) NET RPI', 'TEAM 1 (Resumes) ELO', 'TEAM 2 (Resumes) ELO', 'TEAM 1 (Team) BADJ O RANK', 'TEAM 2 (Team) BADJ O RANK', 'TEAM 1 (Resumes) RESUME', 'TEAM 2 (Resumes) RESUME', 'TEAM 1 (Team) KADJ O RANK', 'TEAM 2 (Team) KADJ O RANK', 'TEAM 1 (Team) ELITE SOS RANK', 'TEAM 2 (Team) ELITE SOS RANK', 'TEAM 1 (Resumes) R SCORE', 'TEAM 2 (Resumes) R SCORE', 'TEAM 1 (Resumes) Q3 Q4 L', 'TEAM 2 (Resumes) Q3 Q4 L']\n"
     ]
    }
   ],
   "source": [
    "\"\"\"\n",
    "Since some of these stats are not present for all the years in the data accumulated, I will take the top 15 stats based on how well they correlate.\n",
    "\n",
    "These top 15 stats must be present for all rows \n",
    "\"\"\"\n",
    "\n",
    "# Retrieve columns from csv that contains all 944 rows with a subset of the columns\n",
    "\n",
    "games_no_nan_df = pd.read_csv(\"csv_files/all-games-with-annual-stats.csv\")\n",
    "columns_no_nan = games_no_nan_df.columns.to_list()\n",
    "\n",
    "top15_list = list()\n",
    "\n",
    "for r_2, stat in sorted_rsquared_list:\n",
    "    team1_stat = \"TEAM 1 \" + stat\n",
    "    team2_stat = \"TEAM 2 \" + stat\n",
    "    if team1_stat in columns_no_nan and team2_stat in columns_no_nan:\n",
    "        top15_list.append(team1_stat)\n",
    "        top15_list.append(team2_stat)\n",
    "    \n",
    "        if len(top15_list) == 30: # 15 for each stat\n",
    "            break\n",
    "\n",
    "print(top15_list)\n",
    "\n",
    "\n"
   ]
  },
  {
   "cell_type": "code",
   "execution_count": 15,
   "metadata": {},
   "outputs": [],
   "source": [
    "#Include the margin of victory column\n",
    "top15_list.append(\"Margin of Victory/Defeat\")\n",
    "games_subset = games_no_nan_df[top15_list]"
   ]
  },
  {
   "cell_type": "code",
   "execution_count": 16,
   "metadata": {},
   "outputs": [
    {
     "data": {
      "text/html": [
       "<div>\n",
       "<style scoped>\n",
       "    .dataframe tbody tr th:only-of-type {\n",
       "        vertical-align: middle;\n",
       "    }\n",
       "\n",
       "    .dataframe tbody tr th {\n",
       "        vertical-align: top;\n",
       "    }\n",
       "\n",
       "    .dataframe thead th {\n",
       "        text-align: right;\n",
       "    }\n",
       "</style>\n",
       "<table border=\"1\" class=\"dataframe\">\n",
       "  <thead>\n",
       "    <tr style=\"text-align: right;\">\n",
       "      <th></th>\n",
       "      <th>TEAM 1 (Team) BARTHAG RANK</th>\n",
       "      <th>TEAM 2 (Team) BARTHAG RANK</th>\n",
       "      <th>TEAM 1 (Team) BADJ EM RANK</th>\n",
       "      <th>TEAM 2 (Team) BADJ EM RANK</th>\n",
       "      <th>TEAM 1 (Resumes) B POWER</th>\n",
       "      <th>TEAM 2 (Resumes) B POWER</th>\n",
       "      <th>TEAM 1 (Team) KADJ EM RANK</th>\n",
       "      <th>TEAM 2 (Team) KADJ EM RANK</th>\n",
       "      <th>TEAM 1 (Seed) 538 Mean</th>\n",
       "      <th>TEAM 2 (Seed) 538 Mean</th>\n",
       "      <th>...</th>\n",
       "      <th>TEAM 2 (Resumes) RESUME</th>\n",
       "      <th>TEAM 1 (Team) KADJ O RANK</th>\n",
       "      <th>TEAM 2 (Team) KADJ O RANK</th>\n",
       "      <th>TEAM 1 (Team) ELITE SOS RANK</th>\n",
       "      <th>TEAM 2 (Team) ELITE SOS RANK</th>\n",
       "      <th>TEAM 1 (Resumes) R SCORE</th>\n",
       "      <th>TEAM 2 (Resumes) R SCORE</th>\n",
       "      <th>TEAM 1 (Resumes) Q3 Q4 L</th>\n",
       "      <th>TEAM 2 (Resumes) Q3 Q4 L</th>\n",
       "      <th>Margin of Victory/Defeat</th>\n",
       "    </tr>\n",
       "  </thead>\n",
       "  <tbody>\n",
       "    <tr>\n",
       "      <th>0</th>\n",
       "      <td>2</td>\n",
       "      <td>193</td>\n",
       "      <td>2</td>\n",
       "      <td>194</td>\n",
       "      <td>2.7</td>\n",
       "      <td>193.0</td>\n",
       "      <td>3</td>\n",
       "      <td>170</td>\n",
       "      <td>92.476</td>\n",
       "      <td>69.771</td>\n",
       "      <td>...</td>\n",
       "      <td>241</td>\n",
       "      <td>19</td>\n",
       "      <td>137</td>\n",
       "      <td>10</td>\n",
       "      <td>323</td>\n",
       "      <td>99.9</td>\n",
       "      <td>0.0</td>\n",
       "      <td>0</td>\n",
       "      <td>7</td>\n",
       "      <td>21</td>\n",
       "    </tr>\n",
       "    <tr>\n",
       "      <th>1</th>\n",
       "      <td>32</td>\n",
       "      <td>18</td>\n",
       "      <td>32</td>\n",
       "      <td>18</td>\n",
       "      <td>22.0</td>\n",
       "      <td>20.3</td>\n",
       "      <td>22</td>\n",
       "      <td>17</td>\n",
       "      <td>83.293</td>\n",
       "      <td>82.929</td>\n",
       "      <td>...</td>\n",
       "      <td>25</td>\n",
       "      <td>35</td>\n",
       "      <td>15</td>\n",
       "      <td>39</td>\n",
       "      <td>5</td>\n",
       "      <td>85.9</td>\n",
       "      <td>93.3</td>\n",
       "      <td>0</td>\n",
       "      <td>0</td>\n",
       "      <td>2</td>\n",
       "    </tr>\n",
       "    <tr>\n",
       "      <th>2</th>\n",
       "      <td>74</td>\n",
       "      <td>12</td>\n",
       "      <td>70</td>\n",
       "      <td>14</td>\n",
       "      <td>69.3</td>\n",
       "      <td>22.0</td>\n",
       "      <td>73</td>\n",
       "      <td>14</td>\n",
       "      <td>79.945</td>\n",
       "      <td>86.415</td>\n",
       "      <td>...</td>\n",
       "      <td>26</td>\n",
       "      <td>70</td>\n",
       "      <td>64</td>\n",
       "      <td>336</td>\n",
       "      <td>65</td>\n",
       "      <td>9.5</td>\n",
       "      <td>98.6</td>\n",
       "      <td>2</td>\n",
       "      <td>0</td>\n",
       "      <td>-6</td>\n",
       "    </tr>\n",
       "    <tr>\n",
       "      <th>3</th>\n",
       "      <td>27</td>\n",
       "      <td>95</td>\n",
       "      <td>29</td>\n",
       "      <td>95</td>\n",
       "      <td>28.3</td>\n",
       "      <td>87.0</td>\n",
       "      <td>34</td>\n",
       "      <td>89</td>\n",
       "      <td>87.245</td>\n",
       "      <td>77.979</td>\n",
       "      <td>...</td>\n",
       "      <td>150</td>\n",
       "      <td>74</td>\n",
       "      <td>33</td>\n",
       "      <td>69</td>\n",
       "      <td>295</td>\n",
       "      <td>99.2</td>\n",
       "      <td>0.0</td>\n",
       "      <td>1</td>\n",
       "      <td>5</td>\n",
       "      <td>-1</td>\n",
       "    </tr>\n",
       "    <tr>\n",
       "      <th>4</th>\n",
       "      <td>42</td>\n",
       "      <td>14</td>\n",
       "      <td>40</td>\n",
       "      <td>15</td>\n",
       "      <td>48.7</td>\n",
       "      <td>11.7</td>\n",
       "      <td>55</td>\n",
       "      <td>13</td>\n",
       "      <td>81.800</td>\n",
       "      <td>85.543</td>\n",
       "      <td>...</td>\n",
       "      <td>40</td>\n",
       "      <td>37</td>\n",
       "      <td>28</td>\n",
       "      <td>75</td>\n",
       "      <td>14</td>\n",
       "      <td>55.5</td>\n",
       "      <td>97.9</td>\n",
       "      <td>0</td>\n",
       "      <td>1</td>\n",
       "      <td>-9</td>\n",
       "    </tr>\n",
       "    <tr>\n",
       "      <th>5</th>\n",
       "      <td>120</td>\n",
       "      <td>15</td>\n",
       "      <td>119</td>\n",
       "      <td>13</td>\n",
       "      <td>110.7</td>\n",
       "      <td>13.3</td>\n",
       "      <td>102</td>\n",
       "      <td>15</td>\n",
       "      <td>75.993</td>\n",
       "      <td>87.415</td>\n",
       "      <td>...</td>\n",
       "      <td>4</td>\n",
       "      <td>71</td>\n",
       "      <td>2</td>\n",
       "      <td>289</td>\n",
       "      <td>3</td>\n",
       "      <td>0.0</td>\n",
       "      <td>99.8</td>\n",
       "      <td>6</td>\n",
       "      <td>0</td>\n",
       "      <td>-18</td>\n",
       "    </tr>\n",
       "    <tr>\n",
       "      <th>6</th>\n",
       "      <td>59</td>\n",
       "      <td>28</td>\n",
       "      <td>54</td>\n",
       "      <td>24</td>\n",
       "      <td>54.0</td>\n",
       "      <td>32.7</td>\n",
       "      <td>51</td>\n",
       "      <td>18</td>\n",
       "      <td>83.679</td>\n",
       "      <td>82.814</td>\n",
       "      <td>...</td>\n",
       "      <td>60</td>\n",
       "      <td>10</td>\n",
       "      <td>13</td>\n",
       "      <td>50</td>\n",
       "      <td>87</td>\n",
       "      <td>93.4</td>\n",
       "      <td>68.6</td>\n",
       "      <td>0</td>\n",
       "      <td>2</td>\n",
       "      <td>11</td>\n",
       "    </tr>\n",
       "    <tr>\n",
       "      <th>7</th>\n",
       "      <td>106</td>\n",
       "      <td>7</td>\n",
       "      <td>107</td>\n",
       "      <td>7</td>\n",
       "      <td>116.3</td>\n",
       "      <td>9.3</td>\n",
       "      <td>112</td>\n",
       "      <td>10</td>\n",
       "      <td>73.693</td>\n",
       "      <td>90.400</td>\n",
       "      <td>...</td>\n",
       "      <td>7</td>\n",
       "      <td>103</td>\n",
       "      <td>4</td>\n",
       "      <td>278</td>\n",
       "      <td>35</td>\n",
       "      <td>0.0</td>\n",
       "      <td>99.8</td>\n",
       "      <td>5</td>\n",
       "      <td>0</td>\n",
       "      <td>4</td>\n",
       "    </tr>\n",
       "    <tr>\n",
       "      <th>8</th>\n",
       "      <td>6</td>\n",
       "      <td>307</td>\n",
       "      <td>4</td>\n",
       "      <td>316</td>\n",
       "      <td>7.0</td>\n",
       "      <td>303.0</td>\n",
       "      <td>7</td>\n",
       "      <td>312</td>\n",
       "      <td>92.476</td>\n",
       "      <td>69.771</td>\n",
       "      <td>...</td>\n",
       "      <td>329</td>\n",
       "      <td>7</td>\n",
       "      <td>155</td>\n",
       "      <td>23</td>\n",
       "      <td>362</td>\n",
       "      <td>99.9</td>\n",
       "      <td>0.0</td>\n",
       "      <td>0</td>\n",
       "      <td>14</td>\n",
       "      <td>-5</td>\n",
       "    </tr>\n",
       "    <tr>\n",
       "      <th>9</th>\n",
       "      <td>16</td>\n",
       "      <td>25</td>\n",
       "      <td>18</td>\n",
       "      <td>25</td>\n",
       "      <td>27.3</td>\n",
       "      <td>34.0</td>\n",
       "      <td>19</td>\n",
       "      <td>26</td>\n",
       "      <td>83.293</td>\n",
       "      <td>82.929</td>\n",
       "      <td>...</td>\n",
       "      <td>59</td>\n",
       "      <td>26</td>\n",
       "      <td>32</td>\n",
       "      <td>58</td>\n",
       "      <td>138</td>\n",
       "      <td>96.5</td>\n",
       "      <td>96.0</td>\n",
       "      <td>1</td>\n",
       "      <td>0</td>\n",
       "      <td>-1</td>\n",
       "    </tr>\n",
       "  </tbody>\n",
       "</table>\n",
       "<p>10 rows × 31 columns</p>\n",
       "</div>"
      ],
      "text/plain": [
       "   TEAM 1 (Team) BARTHAG RANK  TEAM 2 (Team) BARTHAG RANK  \\\n",
       "0                           2                         193   \n",
       "1                          32                          18   \n",
       "2                          74                          12   \n",
       "3                          27                          95   \n",
       "4                          42                          14   \n",
       "5                         120                          15   \n",
       "6                          59                          28   \n",
       "7                         106                           7   \n",
       "8                           6                         307   \n",
       "9                          16                          25   \n",
       "\n",
       "   TEAM 1 (Team) BADJ EM RANK  TEAM 2 (Team) BADJ EM RANK  \\\n",
       "0                           2                         194   \n",
       "1                          32                          18   \n",
       "2                          70                          14   \n",
       "3                          29                          95   \n",
       "4                          40                          15   \n",
       "5                         119                          13   \n",
       "6                          54                          24   \n",
       "7                         107                           7   \n",
       "8                           4                         316   \n",
       "9                          18                          25   \n",
       "\n",
       "   TEAM 1 (Resumes) B POWER  TEAM 2 (Resumes) B POWER  \\\n",
       "0                       2.7                     193.0   \n",
       "1                      22.0                      20.3   \n",
       "2                      69.3                      22.0   \n",
       "3                      28.3                      87.0   \n",
       "4                      48.7                      11.7   \n",
       "5                     110.7                      13.3   \n",
       "6                      54.0                      32.7   \n",
       "7                     116.3                       9.3   \n",
       "8                       7.0                     303.0   \n",
       "9                      27.3                      34.0   \n",
       "\n",
       "   TEAM 1 (Team) KADJ EM RANK  TEAM 2 (Team) KADJ EM RANK  \\\n",
       "0                           3                         170   \n",
       "1                          22                          17   \n",
       "2                          73                          14   \n",
       "3                          34                          89   \n",
       "4                          55                          13   \n",
       "5                         102                          15   \n",
       "6                          51                          18   \n",
       "7                         112                          10   \n",
       "8                           7                         312   \n",
       "9                          19                          26   \n",
       "\n",
       "   TEAM 1 (Seed) 538 Mean  TEAM 2 (Seed) 538 Mean  ...  \\\n",
       "0                  92.476                  69.771  ...   \n",
       "1                  83.293                  82.929  ...   \n",
       "2                  79.945                  86.415  ...   \n",
       "3                  87.245                  77.979  ...   \n",
       "4                  81.800                  85.543  ...   \n",
       "5                  75.993                  87.415  ...   \n",
       "6                  83.679                  82.814  ...   \n",
       "7                  73.693                  90.400  ...   \n",
       "8                  92.476                  69.771  ...   \n",
       "9                  83.293                  82.929  ...   \n",
       "\n",
       "   TEAM 2 (Resumes) RESUME  TEAM 1 (Team) KADJ O RANK  \\\n",
       "0                      241                         19   \n",
       "1                       25                         35   \n",
       "2                       26                         70   \n",
       "3                      150                         74   \n",
       "4                       40                         37   \n",
       "5                        4                         71   \n",
       "6                       60                         10   \n",
       "7                        7                        103   \n",
       "8                      329                          7   \n",
       "9                       59                         26   \n",
       "\n",
       "   TEAM 2 (Team) KADJ O RANK  TEAM 1 (Team) ELITE SOS RANK  \\\n",
       "0                        137                            10   \n",
       "1                         15                            39   \n",
       "2                         64                           336   \n",
       "3                         33                            69   \n",
       "4                         28                            75   \n",
       "5                          2                           289   \n",
       "6                         13                            50   \n",
       "7                          4                           278   \n",
       "8                        155                            23   \n",
       "9                         32                            58   \n",
       "\n",
       "   TEAM 2 (Team) ELITE SOS RANK  TEAM 1 (Resumes) R SCORE  \\\n",
       "0                           323                      99.9   \n",
       "1                             5                      85.9   \n",
       "2                            65                       9.5   \n",
       "3                           295                      99.2   \n",
       "4                            14                      55.5   \n",
       "5                             3                       0.0   \n",
       "6                            87                      93.4   \n",
       "7                            35                       0.0   \n",
       "8                           362                      99.9   \n",
       "9                           138                      96.5   \n",
       "\n",
       "   TEAM 2 (Resumes) R SCORE  TEAM 1 (Resumes) Q3 Q4 L  \\\n",
       "0                       0.0                         0   \n",
       "1                      93.3                         0   \n",
       "2                      98.6                         2   \n",
       "3                       0.0                         1   \n",
       "4                      97.9                         0   \n",
       "5                      99.8                         6   \n",
       "6                      68.6                         0   \n",
       "7                      99.8                         5   \n",
       "8                       0.0                         0   \n",
       "9                      96.0                         1   \n",
       "\n",
       "   TEAM 2 (Resumes) Q3 Q4 L  Margin of Victory/Defeat  \n",
       "0                         7                        21  \n",
       "1                         0                         2  \n",
       "2                         0                        -6  \n",
       "3                         5                        -1  \n",
       "4                         1                        -9  \n",
       "5                         0                       -18  \n",
       "6                         2                        11  \n",
       "7                         0                         4  \n",
       "8                        14                        -5  \n",
       "9                         0                        -1  \n",
       "\n",
       "[10 rows x 31 columns]"
      ]
     },
     "execution_count": 16,
     "metadata": {},
     "output_type": "execute_result"
    }
   ],
   "source": [
    "games_subset.head(10)"
   ]
  },
  {
   "cell_type": "code",
   "execution_count": 17,
   "metadata": {},
   "outputs": [
    {
     "name": "stdout",
     "output_type": "stream",
     "text": [
      "944 944\n"
     ]
    },
    {
     "name": "stderr",
     "output_type": "stream",
     "text": [
      "/var/folders/jf/v_c5gyzs0tx2hzj7stqw6bs80000gn/T/ipykernel_95513/3933445346.py:2: SettingWithCopyWarning: \n",
      "A value is trying to be set on a copy of a slice from a DataFrame.\n",
      "Try using .loc[row_indexer,col_indexer] = value instead\n",
      "\n",
      "See the caveats in the documentation: https://pandas.pydata.org/pandas-docs/stable/user_guide/indexing.html#returning-a-view-versus-a-copy\n",
      "  games_subset['Win?'] = (games_subset['Margin of Victory/Defeat'] >= 0).astype(int)\n"
     ]
    }
   ],
   "source": [
    "# Separate features from output. If margin of victory is positive, let it equal to 1\n",
    "games_subset['Win?'] = (games_subset['Margin of Victory/Defeat'] >= 0).astype(int)\n",
    "\n",
    "games_subset = games_subset.drop('Margin of Victory/Defeat', axis=1)  # Drop Margin\n",
    "\n",
    "X = games_subset.drop('Win?', axis=1)  # Drop Win since it is the target\n",
    "y = games_subset['Win?']  \n",
    "\n",
    "print(len(X), len(y))\n"
   ]
  },
  {
   "cell_type": "code",
   "execution_count": 18,
   "metadata": {},
   "outputs": [
    {
     "name": "stdout",
     "output_type": "stream",
     "text": [
      "Requirement already satisfied: scikit-learn in /Users/srikharpadmanabhan/.pyenv/versions/3.10.15/lib/python3.10/site-packages (1.5.2)\n",
      "Requirement already satisfied: threadpoolctl>=3.1.0 in /Users/srikharpadmanabhan/.pyenv/versions/3.10.15/lib/python3.10/site-packages (from scikit-learn) (3.5.0)\n",
      "Requirement already satisfied: joblib>=1.2.0 in /Users/srikharpadmanabhan/.pyenv/versions/3.10.15/lib/python3.10/site-packages (from scikit-learn) (1.4.2)\n",
      "Requirement already satisfied: scipy>=1.6.0 in /Users/srikharpadmanabhan/.pyenv/versions/3.10.15/lib/python3.10/site-packages (from scikit-learn) (1.14.1)\n",
      "Requirement already satisfied: numpy>=1.19.5 in /Users/srikharpadmanabhan/.pyenv/versions/3.10.15/lib/python3.10/site-packages (from scikit-learn) (2.0.2)\n",
      "\n",
      "\u001b[1m[\u001b[0m\u001b[34;49mnotice\u001b[0m\u001b[1;39;49m]\u001b[0m\u001b[39;49m A new release of pip is available: \u001b[0m\u001b[31;49m23.0.1\u001b[0m\u001b[39;49m -> \u001b[0m\u001b[32;49m24.3.1\u001b[0m\n",
      "\u001b[1m[\u001b[0m\u001b[34;49mnotice\u001b[0m\u001b[1;39;49m]\u001b[0m\u001b[39;49m To update, run: \u001b[0m\u001b[32;49mpip install --upgrade pip\u001b[0m\n",
      "Note: you may need to restart the kernel to use updated packages.\n",
      "Requirement already satisfied: tensorflow in /Users/srikharpadmanabhan/.pyenv/versions/3.10.15/lib/python3.10/site-packages (2.18.0)\n",
      "Requirement already satisfied: grpcio<2.0,>=1.24.3 in /Users/srikharpadmanabhan/.pyenv/versions/3.10.15/lib/python3.10/site-packages (from tensorflow) (1.68.0)\n",
      "Requirement already satisfied: wrapt>=1.11.0 in /Users/srikharpadmanabhan/.pyenv/versions/3.10.15/lib/python3.10/site-packages (from tensorflow) (1.17.0)\n",
      "Requirement already satisfied: google-pasta>=0.1.1 in /Users/srikharpadmanabhan/.pyenv/versions/3.10.15/lib/python3.10/site-packages (from tensorflow) (0.2.0)\n",
      "Requirement already satisfied: tensorflow-io-gcs-filesystem>=0.23.1 in /Users/srikharpadmanabhan/.pyenv/versions/3.10.15/lib/python3.10/site-packages (from tensorflow) (0.37.1)\n",
      "Requirement already satisfied: libclang>=13.0.0 in /Users/srikharpadmanabhan/.pyenv/versions/3.10.15/lib/python3.10/site-packages (from tensorflow) (18.1.1)\n",
      "Requirement already satisfied: setuptools in /Users/srikharpadmanabhan/.pyenv/versions/3.10.15/lib/python3.10/site-packages (from tensorflow) (65.5.0)\n",
      "Requirement already satisfied: h5py>=3.11.0 in /Users/srikharpadmanabhan/.pyenv/versions/3.10.15/lib/python3.10/site-packages (from tensorflow) (3.12.1)\n",
      "Requirement already satisfied: typing-extensions>=3.6.6 in /Users/srikharpadmanabhan/.pyenv/versions/3.10.15/lib/python3.10/site-packages (from tensorflow) (4.12.2)\n",
      "Requirement already satisfied: astunparse>=1.6.0 in /Users/srikharpadmanabhan/.pyenv/versions/3.10.15/lib/python3.10/site-packages (from tensorflow) (1.6.3)\n",
      "Requirement already satisfied: protobuf!=4.21.0,!=4.21.1,!=4.21.2,!=4.21.3,!=4.21.4,!=4.21.5,<6.0.0dev,>=3.20.3 in /Users/srikharpadmanabhan/.pyenv/versions/3.10.15/lib/python3.10/site-packages (from tensorflow) (5.29.0)\n",
      "Requirement already satisfied: flatbuffers>=24.3.25 in /Users/srikharpadmanabhan/.pyenv/versions/3.10.15/lib/python3.10/site-packages (from tensorflow) (24.3.25)\n",
      "Requirement already satisfied: opt-einsum>=2.3.2 in /Users/srikharpadmanabhan/.pyenv/versions/3.10.15/lib/python3.10/site-packages (from tensorflow) (3.4.0)\n",
      "Requirement already satisfied: packaging in /Users/srikharpadmanabhan/.pyenv/versions/3.10.15/lib/python3.10/site-packages (from tensorflow) (24.2)\n",
      "Requirement already satisfied: requests<3,>=2.21.0 in /Users/srikharpadmanabhan/.pyenv/versions/3.10.15/lib/python3.10/site-packages (from tensorflow) (2.32.3)\n",
      "Requirement already satisfied: absl-py>=1.0.0 in /Users/srikharpadmanabhan/.pyenv/versions/3.10.15/lib/python3.10/site-packages (from tensorflow) (2.1.0)\n",
      "Requirement already satisfied: keras>=3.5.0 in /Users/srikharpadmanabhan/.pyenv/versions/3.10.15/lib/python3.10/site-packages (from tensorflow) (3.7.0)\n",
      "Requirement already satisfied: gast!=0.5.0,!=0.5.1,!=0.5.2,>=0.2.1 in /Users/srikharpadmanabhan/.pyenv/versions/3.10.15/lib/python3.10/site-packages (from tensorflow) (0.6.0)\n",
      "Requirement already satisfied: numpy<2.1.0,>=1.26.0 in /Users/srikharpadmanabhan/.pyenv/versions/3.10.15/lib/python3.10/site-packages (from tensorflow) (2.0.2)\n",
      "Requirement already satisfied: ml-dtypes<0.5.0,>=0.4.0 in /Users/srikharpadmanabhan/.pyenv/versions/3.10.15/lib/python3.10/site-packages (from tensorflow) (0.4.1)\n",
      "Requirement already satisfied: termcolor>=1.1.0 in /Users/srikharpadmanabhan/.pyenv/versions/3.10.15/lib/python3.10/site-packages (from tensorflow) (2.5.0)\n",
      "Requirement already satisfied: tensorboard<2.19,>=2.18 in /Users/srikharpadmanabhan/.pyenv/versions/3.10.15/lib/python3.10/site-packages (from tensorflow) (2.18.0)\n",
      "Requirement already satisfied: six>=1.12.0 in /Users/srikharpadmanabhan/.pyenv/versions/3.10.15/lib/python3.10/site-packages (from tensorflow) (1.16.0)\n",
      "Requirement already satisfied: wheel<1.0,>=0.23.0 in /Users/srikharpadmanabhan/.pyenv/versions/3.10.15/lib/python3.10/site-packages (from astunparse>=1.6.0->tensorflow) (0.45.1)\n",
      "Requirement already satisfied: rich in /Users/srikharpadmanabhan/.pyenv/versions/3.10.15/lib/python3.10/site-packages (from keras>=3.5.0->tensorflow) (13.9.4)\n",
      "Requirement already satisfied: optree in /Users/srikharpadmanabhan/.pyenv/versions/3.10.15/lib/python3.10/site-packages (from keras>=3.5.0->tensorflow) (0.13.1)\n",
      "Requirement already satisfied: namex in /Users/srikharpadmanabhan/.pyenv/versions/3.10.15/lib/python3.10/site-packages (from keras>=3.5.0->tensorflow) (0.0.8)\n",
      "Requirement already satisfied: certifi>=2017.4.17 in /Users/srikharpadmanabhan/.pyenv/versions/3.10.15/lib/python3.10/site-packages (from requests<3,>=2.21.0->tensorflow) (2024.8.30)\n",
      "Requirement already satisfied: idna<4,>=2.5 in /Users/srikharpadmanabhan/.pyenv/versions/3.10.15/lib/python3.10/site-packages (from requests<3,>=2.21.0->tensorflow) (3.10)\n",
      "Requirement already satisfied: charset-normalizer<4,>=2 in /Users/srikharpadmanabhan/.pyenv/versions/3.10.15/lib/python3.10/site-packages (from requests<3,>=2.21.0->tensorflow) (3.4.0)\n",
      "Requirement already satisfied: urllib3<3,>=1.21.1 in /Users/srikharpadmanabhan/.pyenv/versions/3.10.15/lib/python3.10/site-packages (from requests<3,>=2.21.0->tensorflow) (2.2.3)\n",
      "Requirement already satisfied: werkzeug>=1.0.1 in /Users/srikharpadmanabhan/.pyenv/versions/3.10.15/lib/python3.10/site-packages (from tensorboard<2.19,>=2.18->tensorflow) (3.1.3)\n",
      "Requirement already satisfied: tensorboard-data-server<0.8.0,>=0.7.0 in /Users/srikharpadmanabhan/.pyenv/versions/3.10.15/lib/python3.10/site-packages (from tensorboard<2.19,>=2.18->tensorflow) (0.7.2)\n",
      "Requirement already satisfied: markdown>=2.6.8 in /Users/srikharpadmanabhan/.pyenv/versions/3.10.15/lib/python3.10/site-packages (from tensorboard<2.19,>=2.18->tensorflow) (3.7)\n",
      "Requirement already satisfied: MarkupSafe>=2.1.1 in /Users/srikharpadmanabhan/.pyenv/versions/3.10.15/lib/python3.10/site-packages (from werkzeug>=1.0.1->tensorboard<2.19,>=2.18->tensorflow) (3.0.2)\n",
      "Requirement already satisfied: pygments<3.0.0,>=2.13.0 in /Users/srikharpadmanabhan/.pyenv/versions/3.10.15/lib/python3.10/site-packages (from rich->keras>=3.5.0->tensorflow) (2.18.0)\n",
      "Requirement already satisfied: markdown-it-py>=2.2.0 in /Users/srikharpadmanabhan/.pyenv/versions/3.10.15/lib/python3.10/site-packages (from rich->keras>=3.5.0->tensorflow) (3.0.0)\n",
      "Requirement already satisfied: mdurl~=0.1 in /Users/srikharpadmanabhan/.pyenv/versions/3.10.15/lib/python3.10/site-packages (from markdown-it-py>=2.2.0->rich->keras>=3.5.0->tensorflow) (0.1.2)\n",
      "\n",
      "\u001b[1m[\u001b[0m\u001b[34;49mnotice\u001b[0m\u001b[1;39;49m]\u001b[0m\u001b[39;49m A new release of pip is available: \u001b[0m\u001b[31;49m23.0.1\u001b[0m\u001b[39;49m -> \u001b[0m\u001b[32;49m24.3.1\u001b[0m\n",
      "\u001b[1m[\u001b[0m\u001b[34;49mnotice\u001b[0m\u001b[1;39;49m]\u001b[0m\u001b[39;49m To update, run: \u001b[0m\u001b[32;49mpip install --upgrade pip\u001b[0m\n",
      "Note: you may need to restart the kernel to use updated packages.\n"
     ]
    }
   ],
   "source": [
    "%pip install scikit-learn\n",
    "%pip install tensorflow"
   ]
  },
  {
   "cell_type": "code",
   "execution_count": 19,
   "metadata": {},
   "outputs": [
    {
     "name": "stdout",
     "output_type": "stream",
     "text": [
      "755 189\n"
     ]
    }
   ],
   "source": [
    "from sklearn.model_selection import train_test_split\n",
    "from sklearn.preprocessing import MinMaxScaler\n",
    "\n",
    "# Split into train and test data\n",
    "X_train, X_test, y_train, y_test = train_test_split(X, y, test_size=0.2, random_state=0)\n",
    "\n",
    "scaler = MinMaxScaler()\n",
    "scaled_Xtrain = scaler.fit_transform(X_train)\n",
    "scaled_Xtest = scaler.transform(X_test)\n",
    "\n",
    "print(len(scaled_Xtrain),len(scaled_Xtest))\n"
   ]
  },
  {
   "cell_type": "code",
   "execution_count": 29,
   "metadata": {},
   "outputs": [
    {
     "name": "stderr",
     "output_type": "stream",
     "text": [
      "/Users/srikharpadmanabhan/.pyenv/versions/3.10.15/lib/python3.10/site-packages/keras/src/layers/core/dense.py:87: UserWarning: Do not pass an `input_shape`/`input_dim` argument to a layer. When using Sequential models, prefer using an `Input(shape)` object as the first layer in the model instead.\n",
      "  super().__init__(activity_regularizer=activity_regularizer, **kwargs)\n"
     ]
    },
    {
     "name": "stdout",
     "output_type": "stream",
     "text": [
      "Epoch 1/10\n",
      "\u001b[1m43/43\u001b[0m \u001b[32m━━━━━━━━━━━━━━━━━━━━\u001b[0m\u001b[37m\u001b[0m \u001b[1m1s\u001b[0m 7ms/step - accuracy: 0.5280 - loss: 0.6906 - precision: 0.5166 - recall: 0.8125 - val_accuracy: 0.7368 - val_loss: 0.6081 - val_precision: 0.7692 - val_recall: 0.7317\n",
      "Epoch 2/10\n",
      "\u001b[1m43/43\u001b[0m \u001b[32m━━━━━━━━━━━━━━━━━━━━\u001b[0m\u001b[37m\u001b[0m \u001b[1m0s\u001b[0m 4ms/step - accuracy: 0.6730 - loss: 0.6155 - precision: 0.6568 - recall: 0.7241 - val_accuracy: 0.7763 - val_loss: 0.5341 - val_precision: 0.8158 - val_recall: 0.7561\n",
      "Epoch 3/10\n",
      "\u001b[1m43/43\u001b[0m \u001b[32m━━━━━━━━━━━━━━━━━━━━\u001b[0m\u001b[37m\u001b[0m \u001b[1m0s\u001b[0m 1ms/step - accuracy: 0.6443 - loss: 0.6290 - precision: 0.6204 - recall: 0.6369 - val_accuracy: 0.7763 - val_loss: 0.5088 - val_precision: 0.7857 - val_recall: 0.8049\n",
      "Epoch 4/10\n",
      "\u001b[1m43/43\u001b[0m \u001b[32m━━━━━━━━━━━━━━━━━━━━\u001b[0m\u001b[37m\u001b[0m \u001b[1m0s\u001b[0m 2ms/step - accuracy: 0.6464 - loss: 0.6049 - precision: 0.6309 - recall: 0.6322 - val_accuracy: 0.8026 - val_loss: 0.4985 - val_precision: 0.8250 - val_recall: 0.8049\n",
      "Epoch 5/10\n",
      "\u001b[1m43/43\u001b[0m \u001b[32m━━━━━━━━━━━━━━━━━━━━\u001b[0m\u001b[37m\u001b[0m \u001b[1m0s\u001b[0m 2ms/step - accuracy: 0.6951 - loss: 0.5941 - precision: 0.6757 - recall: 0.7414 - val_accuracy: 0.7368 - val_loss: 0.4996 - val_precision: 0.8182 - val_recall: 0.6585\n",
      "Epoch 6/10\n",
      "\u001b[1m43/43\u001b[0m \u001b[32m━━━━━━━━━━━━━━━━━━━━\u001b[0m\u001b[37m\u001b[0m \u001b[1m0s\u001b[0m 2ms/step - accuracy: 0.7163 - loss: 0.5698 - precision: 0.7025 - recall: 0.7370 - val_accuracy: 0.7632 - val_loss: 0.4939 - val_precision: 0.8108 - val_recall: 0.7317\n",
      "Epoch 7/10\n",
      "\u001b[1m43/43\u001b[0m \u001b[32m━━━━━━━━━━━━━━━━━━━━\u001b[0m\u001b[37m\u001b[0m \u001b[1m0s\u001b[0m 2ms/step - accuracy: 0.6907 - loss: 0.5919 - precision: 0.6836 - recall: 0.7203 - val_accuracy: 0.7500 - val_loss: 0.4936 - val_precision: 0.8056 - val_recall: 0.7073\n",
      "Epoch 8/10\n",
      "\u001b[1m43/43\u001b[0m \u001b[32m━━━━━━━━━━━━━━━━━━━━\u001b[0m\u001b[37m\u001b[0m \u001b[1m0s\u001b[0m 2ms/step - accuracy: 0.6804 - loss: 0.5960 - precision: 0.6744 - recall: 0.7196 - val_accuracy: 0.7500 - val_loss: 0.4910 - val_precision: 0.8056 - val_recall: 0.7073\n",
      "Epoch 9/10\n",
      "\u001b[1m43/43\u001b[0m \u001b[32m━━━━━━━━━━━━━━━━━━━━\u001b[0m\u001b[37m\u001b[0m \u001b[1m0s\u001b[0m 2ms/step - accuracy: 0.7469 - loss: 0.5488 - precision: 0.7338 - recall: 0.7573 - val_accuracy: 0.7895 - val_loss: 0.4795 - val_precision: 0.8049 - val_recall: 0.8049\n",
      "Epoch 10/10\n",
      "\u001b[1m43/43\u001b[0m \u001b[32m━━━━━━━━━━━━━━━━━━━━\u001b[0m\u001b[37m\u001b[0m \u001b[1m0s\u001b[0m 2ms/step - accuracy: 0.7233 - loss: 0.5590 - precision: 0.6942 - recall: 0.7641 - val_accuracy: 0.7500 - val_loss: 0.4937 - val_precision: 0.8235 - val_recall: 0.6829\n"
     ]
    },
    {
     "name": "stderr",
     "output_type": "stream",
     "text": [
      "WARNING:absl:You are saving your model as an HDF5 file via `model.save()` or `keras.saving.save_model(model)`. This file format is considered legacy. We recommend using instead the native Keras format, e.g. `model.save('my_model.keras')` or `keras.saving.save_model(model, 'my_model.keras')`. \n"
     ]
    },
    {
     "name": "stdout",
     "output_type": "stream",
     "text": [
      "\u001b[1m6/6\u001b[0m \u001b[32m━━━━━━━━━━━━━━━━━━━━\u001b[0m\u001b[37m\u001b[0m \u001b[1m0s\u001b[0m 7ms/step - accuracy: 0.6623 - loss: 0.5813 - precision: 0.5798 - recall: 0.6937 \n",
      "{'accuracy': 0.6984127163887024, 'loss': 0.5721501708030701, 'precision': 0.6404494643211365, 'recall': 0.6951219439506531}\n",
      "\u001b[1m6/6\u001b[0m \u001b[32m━━━━━━━━━━━━━━━━━━━━\u001b[0m\u001b[37m\u001b[0m \u001b[1m0s\u001b[0m 6ms/step \n"
     ]
    }
   ],
   "source": [
    "import tensorflow.keras as keras\n",
    "from sklearn.metrics import roc_curve, roc_auc_score, precision_recall_curve, auc\n",
    "import matplotlib.pyplot as plt\n",
    "\n",
    "# Create model\n",
    "model = keras.models.Sequential()\n",
    "\n",
    "# Add Layers (Will add 2 hidden layers before output)\n",
    "model.add(keras.layers.Dense(64, input_dim=scaled_Xtrain.shape[1], activation='relu'))  \n",
    "model.add(keras.layers.Dropout(0.25))\n",
    "model.add(keras.layers.Dense(16, activation='relu'))  \n",
    "model.add(keras.layers.Dropout(0.25))\n",
    "model.add(keras.layers.Dense(1, activation='sigmoid')) \n",
    "\n",
    "\n",
    "model.compile(optimizer=keras.optimizers.Adam(), loss='binary_crossentropy', metrics=[\"accuracy\",\"precision\",\"recall\"])\n",
    "\n",
    "# Fit the model\n",
    "model.fit(scaled_Xtrain, y_train, epochs=10, batch_size=16, validation_split=0.1)\n",
    "\n",
    "# Save model weights\n",
    "model.save('saved-models/model-3.h5')\n",
    "\n",
    "# Evaluate the model on the test set\n",
    "evaluation_dict = model.evaluate(scaled_Xtest, y_test, return_dict=True)\n",
    "\n",
    "print(evaluation_dict)\n",
    "\n",
    "# Get probabilites for ROC Curve\n",
    "test_probabilities = model.predict(scaled_Xtest)  # Get probabilities\n",
    "\n",
    "\n"
   ]
  },
  {
   "cell_type": "code",
   "execution_count": 79,
   "metadata": {},
   "outputs": [
    {
     "data": {
      "text/plain": [
       "<Figure size 640x480 with 0 Axes>"
      ]
     },
     "metadata": {},
     "output_type": "display_data"
    }
   ],
   "source": [
    "# Get AUC Score\n",
    "auc_score = roc_auc_score(y_test, test_probabilities)\n",
    "\n",
    "# Optionally, plot the ROC Curve\n",
    "fpr, tpr, thresholds = roc_curve(y_test, test_probabilities)  # fpr: False positive rate, tpr: True positive rate\n",
    "\n",
    "plt.plot(fpr, tpr, label=f\"ROC Curve: AUC = {auc_score:.2f})\")\n",
    "plt.plot([0, 1], [0, 1], color='g', label='Random')\n",
    "\n",
    "# Fill between random\n",
    "plt.fill_between(fpr, tpr, [x for x in fpr], color=\"pink\")\n",
    "plt.xlabel('False Positive Rate (FPR')\n",
    "plt.ylabel('True Positive Rate (TPR')\n",
    "plt.title('ROC Curve for Model 2')\n",
    "plt.legend()\n",
    "plt.savefig(\"ML Charts/ROC Curve for Model 3.png\")\n",
    "\n",
    "plt.clf()\n",
    "\n",
    "precision_vals, recall_vals, thresholds = precision_recall_curve(y_test, test_probabilities)\n",
    "\n",
    "pr_curve_auc = auc(recall_vals, precision_vals)\n",
    "# Plot the Precision-Recall curve\n",
    "plt.plot(recall_vals, precision_vals, label=f'P-R Curve: AUC = {pr_curve_auc}')\n",
    "\n",
    "# Labeling the plot\n",
    "plt.xlabel('Recall')\n",
    "plt.ylabel('Precision')\n",
    "plt.title('Precision-Recall Curve')\n",
    "plt.legend()\n",
    "plt.savefig(\"ML Charts/P-R Curve for Model 3.png\")\n",
    "\n",
    "plt.clf()"
   ]
  },
  {
   "cell_type": "code",
   "execution_count": 77,
   "metadata": {},
   "outputs": [],
   "source": []
  },
  {
   "cell_type": "code",
   "execution_count": null,
   "metadata": {},
   "outputs": [],
   "source": []
  },
  {
   "cell_type": "code",
   "execution_count": 26,
   "metadata": {},
   "outputs": [
    {
     "name": "stdout",
     "output_type": "stream",
     "text": [
      "944 944 944\n"
     ]
    }
   ],
   "source": [
    "\"\"\"\n",
    "Now we will create an ML model that predicts the final score, \n",
    "then we will check its output and see if it predicts wins and losses better than the previous model\n",
    "\"\"\"\n",
    "\n",
    "# Get only the top 15 stats from the regression\n",
    "new_games_subset = games_no_nan_df[top15_list]\n",
    "\n",
    "# Also create a variable to hold whether the margin is positive or not\n",
    "linear_y_win = (new_games_subset['Margin of Victory/Defeat'] >= 0).astype(int)\n",
    "\n",
    "linear_X = new_games_subset.drop('Margin of Victory/Defeat', axis=1)  # Drop Win since it is the target\n",
    "linear_y = new_games_subset['Margin of Victory/Defeat']  \n",
    "\n",
    "print(len(linear_X), len(linear_y), len(linear_y_win))"
   ]
  },
  {
   "cell_type": "code",
   "execution_count": 30,
   "metadata": {},
   "outputs": [
    {
     "name": "stdout",
     "output_type": "stream",
     "text": [
      "755 189\n"
     ]
    }
   ],
   "source": [
    "# Split into train and test data\n",
    "linear_X_train, linear_X_test, linear_y_train, linear_y_test = train_test_split(linear_X, linear_y, test_size=0.2, random_state=0)\n",
    "\n",
    "scaler_linear = MinMaxScaler()\n",
    "scaled_Xtrain_linear = scaler_linear.fit_transform(linear_X_train)\n",
    "scaled_Xtest_linear = scaler_linear.transform(linear_X_test)\n",
    "\n",
    "print(len(scaled_Xtrain),len(scaled_Xtest))"
   ]
  },
  {
   "cell_type": "code",
   "execution_count": 34,
   "metadata": {},
   "outputs": [
    {
     "name": "stderr",
     "output_type": "stream",
     "text": [
      "/Users/srikharpadmanabhan/.pyenv/versions/3.10.15/lib/python3.10/site-packages/keras/src/layers/core/dense.py:87: UserWarning: Do not pass an `input_shape`/`input_dim` argument to a layer. When using Sequential models, prefer using an `Input(shape)` object as the first layer in the model instead.\n",
      "  super().__init__(activity_regularizer=activity_regularizer, **kwargs)\n"
     ]
    },
    {
     "data": {
      "text/html": [
       "<pre style=\"white-space:pre;overflow-x:auto;line-height:normal;font-family:Menlo,'DejaVu Sans Mono',consolas,'Courier New',monospace\"><span style=\"font-weight: bold\">Model: \"sequential_4\"</span>\n",
       "</pre>\n"
      ],
      "text/plain": [
       "\u001b[1mModel: \"sequential_4\"\u001b[0m\n"
      ]
     },
     "metadata": {},
     "output_type": "display_data"
    },
    {
     "data": {
      "text/html": [
       "<pre style=\"white-space:pre;overflow-x:auto;line-height:normal;font-family:Menlo,'DejaVu Sans Mono',consolas,'Courier New',monospace\">┏━━━━━━━━━━━━━━━━━━━━━━━━━━━━━━━━━┳━━━━━━━━━━━━━━━━━━━━━━━━┳━━━━━━━━━━━━━━━┓\n",
       "┃<span style=\"font-weight: bold\"> Layer (type)                    </span>┃<span style=\"font-weight: bold\"> Output Shape           </span>┃<span style=\"font-weight: bold\">       Param # </span>┃\n",
       "┡━━━━━━━━━━━━━━━━━━━━━━━━━━━━━━━━━╇━━━━━━━━━━━━━━━━━━━━━━━━╇━━━━━━━━━━━━━━━┩\n",
       "│ dense_16 (<span style=\"color: #0087ff; text-decoration-color: #0087ff\">Dense</span>)                │ (<span style=\"color: #00d7ff; text-decoration-color: #00d7ff\">None</span>, <span style=\"color: #00af00; text-decoration-color: #00af00\">64</span>)             │         <span style=\"color: #00af00; text-decoration-color: #00af00\">1,984</span> │\n",
       "├─────────────────────────────────┼────────────────────────┼───────────────┤\n",
       "│ dense_17 (<span style=\"color: #0087ff; text-decoration-color: #0087ff\">Dense</span>)                │ (<span style=\"color: #00d7ff; text-decoration-color: #00d7ff\">None</span>, <span style=\"color: #00af00; text-decoration-color: #00af00\">32</span>)             │         <span style=\"color: #00af00; text-decoration-color: #00af00\">2,080</span> │\n",
       "├─────────────────────────────────┼────────────────────────┼───────────────┤\n",
       "│ dense_18 (<span style=\"color: #0087ff; text-decoration-color: #0087ff\">Dense</span>)                │ (<span style=\"color: #00d7ff; text-decoration-color: #00d7ff\">None</span>, <span style=\"color: #00af00; text-decoration-color: #00af00\">8</span>)              │           <span style=\"color: #00af00; text-decoration-color: #00af00\">264</span> │\n",
       "├─────────────────────────────────┼────────────────────────┼───────────────┤\n",
       "│ dense_19 (<span style=\"color: #0087ff; text-decoration-color: #0087ff\">Dense</span>)                │ (<span style=\"color: #00d7ff; text-decoration-color: #00d7ff\">None</span>, <span style=\"color: #00af00; text-decoration-color: #00af00\">2</span>)              │            <span style=\"color: #00af00; text-decoration-color: #00af00\">18</span> │\n",
       "├─────────────────────────────────┼────────────────────────┼───────────────┤\n",
       "│ dense_20 (<span style=\"color: #0087ff; text-decoration-color: #0087ff\">Dense</span>)                │ (<span style=\"color: #00d7ff; text-decoration-color: #00d7ff\">None</span>, <span style=\"color: #00af00; text-decoration-color: #00af00\">1</span>)              │             <span style=\"color: #00af00; text-decoration-color: #00af00\">3</span> │\n",
       "└─────────────────────────────────┴────────────────────────┴───────────────┘\n",
       "</pre>\n"
      ],
      "text/plain": [
       "┏━━━━━━━━━━━━━━━━━━━━━━━━━━━━━━━━━┳━━━━━━━━━━━━━━━━━━━━━━━━┳━━━━━━━━━━━━━━━┓\n",
       "┃\u001b[1m \u001b[0m\u001b[1mLayer (type)                   \u001b[0m\u001b[1m \u001b[0m┃\u001b[1m \u001b[0m\u001b[1mOutput Shape          \u001b[0m\u001b[1m \u001b[0m┃\u001b[1m \u001b[0m\u001b[1m      Param #\u001b[0m\u001b[1m \u001b[0m┃\n",
       "┡━━━━━━━━━━━━━━━━━━━━━━━━━━━━━━━━━╇━━━━━━━━━━━━━━━━━━━━━━━━╇━━━━━━━━━━━━━━━┩\n",
       "│ dense_16 (\u001b[38;5;33mDense\u001b[0m)                │ (\u001b[38;5;45mNone\u001b[0m, \u001b[38;5;34m64\u001b[0m)             │         \u001b[38;5;34m1,984\u001b[0m │\n",
       "├─────────────────────────────────┼────────────────────────┼───────────────┤\n",
       "│ dense_17 (\u001b[38;5;33mDense\u001b[0m)                │ (\u001b[38;5;45mNone\u001b[0m, \u001b[38;5;34m32\u001b[0m)             │         \u001b[38;5;34m2,080\u001b[0m │\n",
       "├─────────────────────────────────┼────────────────────────┼───────────────┤\n",
       "│ dense_18 (\u001b[38;5;33mDense\u001b[0m)                │ (\u001b[38;5;45mNone\u001b[0m, \u001b[38;5;34m8\u001b[0m)              │           \u001b[38;5;34m264\u001b[0m │\n",
       "├─────────────────────────────────┼────────────────────────┼───────────────┤\n",
       "│ dense_19 (\u001b[38;5;33mDense\u001b[0m)                │ (\u001b[38;5;45mNone\u001b[0m, \u001b[38;5;34m2\u001b[0m)              │            \u001b[38;5;34m18\u001b[0m │\n",
       "├─────────────────────────────────┼────────────────────────┼───────────────┤\n",
       "│ dense_20 (\u001b[38;5;33mDense\u001b[0m)                │ (\u001b[38;5;45mNone\u001b[0m, \u001b[38;5;34m1\u001b[0m)              │             \u001b[38;5;34m3\u001b[0m │\n",
       "└─────────────────────────────────┴────────────────────────┴───────────────┘\n"
      ]
     },
     "metadata": {},
     "output_type": "display_data"
    },
    {
     "data": {
      "text/html": [
       "<pre style=\"white-space:pre;overflow-x:auto;line-height:normal;font-family:Menlo,'DejaVu Sans Mono',consolas,'Courier New',monospace\"><span style=\"font-weight: bold\"> Total params: </span><span style=\"color: #00af00; text-decoration-color: #00af00\">4,349</span> (16.99 KB)\n",
       "</pre>\n"
      ],
      "text/plain": [
       "\u001b[1m Total params: \u001b[0m\u001b[38;5;34m4,349\u001b[0m (16.99 KB)\n"
      ]
     },
     "metadata": {},
     "output_type": "display_data"
    },
    {
     "data": {
      "text/html": [
       "<pre style=\"white-space:pre;overflow-x:auto;line-height:normal;font-family:Menlo,'DejaVu Sans Mono',consolas,'Courier New',monospace\"><span style=\"font-weight: bold\"> Trainable params: </span><span style=\"color: #00af00; text-decoration-color: #00af00\">4,349</span> (16.99 KB)\n",
       "</pre>\n"
      ],
      "text/plain": [
       "\u001b[1m Trainable params: \u001b[0m\u001b[38;5;34m4,349\u001b[0m (16.99 KB)\n"
      ]
     },
     "metadata": {},
     "output_type": "display_data"
    },
    {
     "data": {
      "text/html": [
       "<pre style=\"white-space:pre;overflow-x:auto;line-height:normal;font-family:Menlo,'DejaVu Sans Mono',consolas,'Courier New',monospace\"><span style=\"font-weight: bold\"> Non-trainable params: </span><span style=\"color: #00af00; text-decoration-color: #00af00\">0</span> (0.00 B)\n",
       "</pre>\n"
      ],
      "text/plain": [
       "\u001b[1m Non-trainable params: \u001b[0m\u001b[38;5;34m0\u001b[0m (0.00 B)\n"
      ]
     },
     "metadata": {},
     "output_type": "display_data"
    }
   ],
   "source": [
    "linear_model = keras.models.Sequential()\n",
    "\n",
    "# Lets make it a model that has layers that go down in size to 1\n",
    "linear_model.add(keras.layers.Dense(64, input_dim=scaled_Xtrain_linear.shape[1], activation='relu'))\n",
    "linear_model.add(keras.layers.Dense(32, activation='relu'))\n",
    "linear_model.add(keras.layers.Dense(8, activation='relu'))\n",
    "linear_model.add(keras.layers.Dense(2, activation='relu'))\n",
    "linear_model.add(keras.layers.Dense(1))  \n",
    "\n",
    "# Compile the model\n",
    "linear_model.compile(optimizer='adam', loss='mean_squared_error')\n",
    "\n",
    "# Print the model summary\n",
    "linear_model.summary()"
   ]
  },
  {
   "cell_type": "code",
   "execution_count": 62,
   "metadata": {},
   "outputs": [
    {
     "name": "stdout",
     "output_type": "stream",
     "text": [
      "Epoch 1/20\n",
      "\u001b[1m43/43\u001b[0m \u001b[32m━━━━━━━━━━━━━━━━━━━━\u001b[0m\u001b[37m\u001b[0m \u001b[1m0s\u001b[0m 2ms/step - loss: 130.8076 - val_loss: 110.5050\n",
      "Epoch 2/20\n",
      "\u001b[1m43/43\u001b[0m \u001b[32m━━━━━━━━━━━━━━━━━━━━\u001b[0m\u001b[37m\u001b[0m \u001b[1m0s\u001b[0m 997us/step - loss: 131.2624 - val_loss: 111.3048\n",
      "Epoch 3/20\n",
      "\u001b[1m43/43\u001b[0m \u001b[32m━━━━━━━━━━━━━━━━━━━━\u001b[0m\u001b[37m\u001b[0m \u001b[1m0s\u001b[0m 1ms/step - loss: 140.4083 - val_loss: 110.1877\n",
      "Epoch 4/20\n",
      "\u001b[1m43/43\u001b[0m \u001b[32m━━━━━━━━━━━━━━━━━━━━\u001b[0m\u001b[37m\u001b[0m \u001b[1m0s\u001b[0m 1ms/step - loss: 137.0010 - val_loss: 109.7875\n",
      "Epoch 5/20\n",
      "\u001b[1m43/43\u001b[0m \u001b[32m━━━━━━━━━━━━━━━━━━━━\u001b[0m\u001b[37m\u001b[0m \u001b[1m0s\u001b[0m 1ms/step - loss: 137.2915 - val_loss: 111.8512\n",
      "Epoch 6/20\n",
      "\u001b[1m43/43\u001b[0m \u001b[32m━━━━━━━━━━━━━━━━━━━━\u001b[0m\u001b[37m\u001b[0m \u001b[1m0s\u001b[0m 1ms/step - loss: 135.9642 - val_loss: 117.2769\n",
      "Epoch 7/20\n",
      "\u001b[1m43/43\u001b[0m \u001b[32m━━━━━━━━━━━━━━━━━━━━\u001b[0m\u001b[37m\u001b[0m \u001b[1m0s\u001b[0m 1ms/step - loss: 133.7288 - val_loss: 109.5833\n",
      "Epoch 8/20\n",
      "\u001b[1m43/43\u001b[0m \u001b[32m━━━━━━━━━━━━━━━━━━━━\u001b[0m\u001b[37m\u001b[0m \u001b[1m0s\u001b[0m 1ms/step - loss: 126.5005 - val_loss: 108.3623\n",
      "Epoch 9/20\n",
      "\u001b[1m43/43\u001b[0m \u001b[32m━━━━━━━━━━━━━━━━━━━━\u001b[0m\u001b[37m\u001b[0m \u001b[1m0s\u001b[0m 1ms/step - loss: 123.0065 - val_loss: 112.6271\n",
      "Epoch 10/20\n",
      "\u001b[1m43/43\u001b[0m \u001b[32m━━━━━━━━━━━━━━━━━━━━\u001b[0m\u001b[37m\u001b[0m \u001b[1m0s\u001b[0m 1ms/step - loss: 114.8108 - val_loss: 108.3860\n",
      "Epoch 11/20\n",
      "\u001b[1m43/43\u001b[0m \u001b[32m━━━━━━━━━━━━━━━━━━━━\u001b[0m\u001b[37m\u001b[0m \u001b[1m0s\u001b[0m 1ms/step - loss: 128.3553 - val_loss: 107.3604\n",
      "Epoch 12/20\n",
      "\u001b[1m43/43\u001b[0m \u001b[32m━━━━━━━━━━━━━━━━━━━━\u001b[0m\u001b[37m\u001b[0m \u001b[1m0s\u001b[0m 1ms/step - loss: 137.2957 - val_loss: 109.7386\n",
      "Epoch 13/20\n",
      "\u001b[1m43/43\u001b[0m \u001b[32m━━━━━━━━━━━━━━━━━━━━\u001b[0m\u001b[37m\u001b[0m \u001b[1m0s\u001b[0m 1ms/step - loss: 121.1221 - val_loss: 108.5791\n",
      "Epoch 14/20\n",
      "\u001b[1m43/43\u001b[0m \u001b[32m━━━━━━━━━━━━━━━━━━━━\u001b[0m\u001b[37m\u001b[0m \u001b[1m0s\u001b[0m 1ms/step - loss: 145.7026 - val_loss: 107.4099\n",
      "Epoch 15/20\n",
      "\u001b[1m43/43\u001b[0m \u001b[32m━━━━━━━━━━━━━━━━━━━━\u001b[0m\u001b[37m\u001b[0m \u001b[1m0s\u001b[0m 2ms/step - loss: 128.8925 - val_loss: 109.9022\n",
      "Epoch 16/20\n",
      "\u001b[1m43/43\u001b[0m \u001b[32m━━━━━━━━━━━━━━━━━━━━\u001b[0m\u001b[37m\u001b[0m \u001b[1m0s\u001b[0m 1ms/step - loss: 126.5399 - val_loss: 112.5259\n",
      "Epoch 17/20\n",
      "\u001b[1m43/43\u001b[0m \u001b[32m━━━━━━━━━━━━━━━━━━━━\u001b[0m\u001b[37m\u001b[0m \u001b[1m0s\u001b[0m 1ms/step - loss: 125.8462 - val_loss: 109.1625\n",
      "Epoch 18/20\n",
      "\u001b[1m43/43\u001b[0m \u001b[32m━━━━━━━━━━━━━━━━━━━━\u001b[0m\u001b[37m\u001b[0m \u001b[1m0s\u001b[0m 1ms/step - loss: 122.5356 - val_loss: 108.1994\n",
      "Epoch 19/20\n",
      "\u001b[1m43/43\u001b[0m \u001b[32m━━━━━━━━━━━━━━━━━━━━\u001b[0m\u001b[37m\u001b[0m \u001b[1m0s\u001b[0m 1ms/step - loss: 121.4102 - val_loss: 112.3668\n",
      "Epoch 20/20\n",
      "\u001b[1m43/43\u001b[0m \u001b[32m━━━━━━━━━━━━━━━━━━━━\u001b[0m\u001b[37m\u001b[0m \u001b[1m0s\u001b[0m 1ms/step - loss: 134.2574 - val_loss: 116.4211\n"
     ]
    },
    {
     "name": "stderr",
     "output_type": "stream",
     "text": [
      "WARNING:absl:You are saving your model as an HDF5 file via `model.save()` or `keras.saving.save_model(model)`. This file format is considered legacy. We recommend using instead the native Keras format, e.g. `model.save('my_model.keras')` or `keras.saving.save_model(model, 'my_model.keras')`. \n"
     ]
    },
    {
     "name": "stdout",
     "output_type": "stream",
     "text": [
      "\u001b[1m6/6\u001b[0m \u001b[32m━━━━━━━━━━━━━━━━━━━━\u001b[0m\u001b[37m\u001b[0m \u001b[1m0s\u001b[0m 2ms/step - loss: 132.1400\n",
      "{'loss': 136.65554809570312}\n",
      "\u001b[1m6/6\u001b[0m \u001b[32m━━━━━━━━━━━━━━━━━━━━\u001b[0m\u001b[37m\u001b[0m \u001b[1m0s\u001b[0m 2ms/step \n"
     ]
    }
   ],
   "source": [
    "# Fit the model\n",
    "linear_model.fit(scaled_Xtrain_linear, linear_y_train, epochs=20, batch_size=16, validation_split=0.1)\n",
    "\n",
    "# Save model weights\n",
    "linear_model.save('saved-models/model-4-linear.h5')\n",
    "\n",
    "# Evaluate the model on the test set\n",
    "evaluation_dict = linear_model.evaluate(scaled_Xtest_linear, linear_y_test, return_dict=True)\n",
    "\n",
    "print(evaluation_dict)\n",
    "\n",
    "# Get predictions\n",
    "linear_predictions = linear_model.predict(scaled_Xtest)  # Get probabilities"
   ]
  },
  {
   "cell_type": "code",
   "execution_count": 63,
   "metadata": {},
   "outputs": [
    {
     "data": {
      "text/plain": [
       "(array([[-1.4881086 ],\n",
       "        [-5.1507154 ],\n",
       "        [-0.39429334],\n",
       "        [-3.3728523 ],\n",
       "        [-5.5260415 ]], dtype=float32),\n",
       " 638    -7\n",
       " 545    30\n",
       " 688   -13\n",
       " 14    -10\n",
       " 261    -8\n",
       " Name: Margin of Victory/Defeat, dtype: int64,\n",
       " 189,\n",
       " 189)"
      ]
     },
     "execution_count": 63,
     "metadata": {},
     "output_type": "execute_result"
    }
   ],
   "source": [
    "linear_predictions[:5], linear_y_test[:5], len(linear_predictions), len(linear_y_test)"
   ]
  },
  {
   "cell_type": "code",
   "execution_count": 64,
   "metadata": {},
   "outputs": [],
   "source": [
    "def get_accuracy_with_margin(predictions, correct_answers):\n",
    "    correct_prediction = 0\n",
    "    total = len(predictions)\n",
    "\n",
    "    for i in range(total):\n",
    "        if predictions[i] * correct_answers[i] > 0:\n",
    "            correct_prediction += 1\n",
    "            \n",
    "    print(correct_prediction / total)"
   ]
  },
  {
   "cell_type": "code",
   "execution_count": 65,
   "metadata": {},
   "outputs": [
    {
     "name": "stdout",
     "output_type": "stream",
     "text": [
      "0.6931216931216931\n"
     ]
    }
   ],
   "source": [
    "get_accuracy_with_margin(linear_predictions, list(linear_y_test))"
   ]
  },
  {
   "cell_type": "code",
   "execution_count": 77,
   "metadata": {},
   "outputs": [],
   "source": [
    "def plot_linear_predictions_residual(predictions, actual):\n",
    "    residuals = actual - predictions\n",
    "    \n",
    "    plt.scatter(actual, residuals, color='b', label='Residuals')\n",
    "    plt.axhline(y=0, color='red')\n",
    "    plt.xlabel('True Margins of Victory/Defeat')\n",
    "    plt.ylabel('Residuals')\n",
    "    plt.title('Residual Plot for Margins of Victory Predictions')\n",
    "    plt.legend()\n",
    "    \n",
    "    plt.savefig(\"ML Charts/Residual Plot for Linear Model.png\")"
   ]
  },
  {
   "cell_type": "code",
   "execution_count": 78,
   "metadata": {},
   "outputs": [
    {
     "name": "stdout",
     "output_type": "stream",
     "text": [
      "Requirement already satisfied: numpy in /Users/srikharpadmanabhan/.pyenv/versions/3.10.15/lib/python3.10/site-packages (2.0.2)\n",
      "\n",
      "\u001b[1m[\u001b[0m\u001b[34;49mnotice\u001b[0m\u001b[1;39;49m]\u001b[0m\u001b[39;49m A new release of pip is available: \u001b[0m\u001b[31;49m23.0.1\u001b[0m\u001b[39;49m -> \u001b[0m\u001b[32;49m24.3.1\u001b[0m\n",
      "\u001b[1m[\u001b[0m\u001b[34;49mnotice\u001b[0m\u001b[1;39;49m]\u001b[0m\u001b[39;49m To update, run: \u001b[0m\u001b[32;49mpip install --upgrade pip\u001b[0m\n",
      "Note: you may need to restart the kernel to use updated packages.\n"
     ]
    },
    {
     "data": {
      "image/png": "[encoded data removed]",
      "text/plain": [
       "<Figure size 640x480 with 1 Axes>"
      ]
     },
     "metadata": {},
     "output_type": "display_data"
    }
   ],
   "source": [
    "%pip install numpy\n",
    "import numpy as np\n",
    "\n",
    "plot_linear_predictions_residual(np.array(list(linear_predictions)).flatten(), np.array(list(linear_y_test)))"
   ]
  },
  {
   "cell_type": "code",
   "execution_count": null,
   "metadata": {},
   "outputs": [],
   "source": []
  }
 ],
 "metadata": {
  "kernelspec": {
   "display_name": "Python 3",
   "language": "python",
   "name": "python3"
  },
  "language_info": {
   "codemirror_mode": {
    "name": "ipython",
    "version": 3
   },
   "file_extension": ".py",
   "mimetype": "text/x-python",
   "name": "python",
   "nbconvert_exporter": "python",
   "pygments_lexer": "ipython3",
   "version": "3.10.15"
  }
 },
 "nbformat": 4,
 "nbformat_minor": 2
}
