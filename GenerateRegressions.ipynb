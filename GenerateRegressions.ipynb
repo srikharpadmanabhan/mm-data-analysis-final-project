{
 "cells": [
  {
   "cell_type": "code",
   "execution_count": 19,
   "metadata": {},
   "outputs": [
    {
     "name": "stdout",
     "output_type": "stream",
     "text": [
      "Requirement already satisfied: scipy in /Users/srikharpadmanabhan/.pyenv/versions/3.10.15/lib/python3.10/site-packages (1.14.1)\n",
      "Requirement already satisfied: numpy<2.3,>=1.23.5 in /Users/srikharpadmanabhan/.pyenv/versions/3.10.15/lib/python3.10/site-packages (from scipy) (2.1.3)\n",
      "\n",
      "\u001b[1m[\u001b[0m\u001b[34;49mnotice\u001b[0m\u001b[1;39;49m]\u001b[0m\u001b[39;49m A new release of pip is available: \u001b[0m\u001b[31;49m23.0.1\u001b[0m\u001b[39;49m -> \u001b[0m\u001b[32;49m24.3.1\u001b[0m\n",
      "\u001b[1m[\u001b[0m\u001b[34;49mnotice\u001b[0m\u001b[1;39;49m]\u001b[0m\u001b[39;49m To update, run: \u001b[0m\u001b[32;49mpip install --upgrade pip\u001b[0m\n",
      "Note: you may need to restart the kernel to use updated packages.\n",
      "Requirement already satisfied: matplotlib in /Users/srikharpadmanabhan/.pyenv/versions/3.10.15/lib/python3.10/site-packages (3.9.2)\n",
      "Requirement already satisfied: packaging>=20.0 in /Users/srikharpadmanabhan/.pyenv/versions/3.10.15/lib/python3.10/site-packages (from matplotlib) (24.2)\n",
      "Requirement already satisfied: pyparsing>=2.3.1 in /Users/srikharpadmanabhan/.pyenv/versions/3.10.15/lib/python3.10/site-packages (from matplotlib) (3.2.0)\n",
      "Requirement already satisfied: contourpy>=1.0.1 in /Users/srikharpadmanabhan/.pyenv/versions/3.10.15/lib/python3.10/site-packages (from matplotlib) (1.3.1)\n",
      "Requirement already satisfied: numpy>=1.23 in /Users/srikharpadmanabhan/.pyenv/versions/3.10.15/lib/python3.10/site-packages (from matplotlib) (2.1.3)\n",
      "Requirement already satisfied: pillow>=8 in /Users/srikharpadmanabhan/.pyenv/versions/3.10.15/lib/python3.10/site-packages (from matplotlib) (11.0.0)\n",
      "Requirement already satisfied: python-dateutil>=2.7 in /Users/srikharpadmanabhan/.pyenv/versions/3.10.15/lib/python3.10/site-packages (from matplotlib) (2.9.0.post0)\n",
      "Requirement already satisfied: cycler>=0.10 in /Users/srikharpadmanabhan/.pyenv/versions/3.10.15/lib/python3.10/site-packages (from matplotlib) (0.12.1)\n",
      "Requirement already satisfied: fonttools>=4.22.0 in /Users/srikharpadmanabhan/.pyenv/versions/3.10.15/lib/python3.10/site-packages (from matplotlib) (4.55.0)\n",
      "Requirement already satisfied: kiwisolver>=1.3.1 in /Users/srikharpadmanabhan/.pyenv/versions/3.10.15/lib/python3.10/site-packages (from matplotlib) (1.4.7)\n",
      "Requirement already satisfied: six>=1.5 in /Users/srikharpadmanabhan/.pyenv/versions/3.10.15/lib/python3.10/site-packages (from python-dateutil>=2.7->matplotlib) (1.16.0)\n",
      "\n",
      "\u001b[1m[\u001b[0m\u001b[34;49mnotice\u001b[0m\u001b[1;39;49m]\u001b[0m\u001b[39;49m A new release of pip is available: \u001b[0m\u001b[31;49m23.0.1\u001b[0m\u001b[39;49m -> \u001b[0m\u001b[32;49m24.3.1\u001b[0m\n",
      "\u001b[1m[\u001b[0m\u001b[34;49mnotice\u001b[0m\u001b[1;39;49m]\u001b[0m\u001b[39;49m To update, run: \u001b[0m\u001b[32;49mpip install --upgrade pip\u001b[0m\n",
      "Note: you may need to restart the kernel to use updated packages.\n"
     ]
    }
   ],
   "source": [
    "%pip install scipy\n",
    "%pip install matplotlib"
   ]
  },
  {
   "cell_type": "code",
   "execution_count": 20,
   "metadata": {},
   "outputs": [],
   "source": [
    "import pandas as pd"
   ]
  },
  {
   "cell_type": "code",
   "execution_count": 21,
   "metadata": {},
   "outputs": [
    {
     "data": {
      "text/html": [
       "<div>\n",
       "<style scoped>\n",
       "    .dataframe tbody tr th:only-of-type {\n",
       "        vertical-align: middle;\n",
       "    }\n",
       "\n",
       "    .dataframe tbody tr th {\n",
       "        vertical-align: top;\n",
       "    }\n",
       "\n",
       "    .dataframe thead th {\n",
       "        text-align: right;\n",
       "    }\n",
       "</style>\n",
       "<table border=\"1\" class=\"dataframe\">\n",
       "  <thead>\n",
       "    <tr style=\"text-align: right;\">\n",
       "      <th></th>\n",
       "      <th>year</th>\n",
       "      <th>TEAM 1 Name</th>\n",
       "      <th>TEAM 1 (Team) 538 Power Rating</th>\n",
       "      <th>TEAM 1 (Team) 538 Power Rank</th>\n",
       "      <th>TEAM 1 (Team) K TEMPO RANK</th>\n",
       "      <th>TEAM 1 (Team) KADJ T RANK</th>\n",
       "      <th>TEAM 1 (Team) KO RANK</th>\n",
       "      <th>TEAM 1 (Team) KADJ O RANK</th>\n",
       "      <th>TEAM 1 (Team) KD RANK</th>\n",
       "      <th>TEAM 1 (Team) KADJ D RANK</th>\n",
       "      <th>...</th>\n",
       "      <th>TEAM 2 (Conference) EFF HGT</th>\n",
       "      <th>TEAM 2 (Conference) EXP</th>\n",
       "      <th>TEAM 2 (Conference) TALENT</th>\n",
       "      <th>TEAM 2 (Conference) FT%</th>\n",
       "      <th>TEAM 2 (Conference) OP FT%</th>\n",
       "      <th>TEAM 2 (Conference) PPPO</th>\n",
       "      <th>TEAM 2 (Conference) PPPD</th>\n",
       "      <th>TEAM 2 (Conference) ELITE SOS</th>\n",
       "      <th>TEAM 2 (Conference) WAB</th>\n",
       "      <th>Margin of Victory/Defeat</th>\n",
       "    </tr>\n",
       "  </thead>\n",
       "  <tbody>\n",
       "    <tr>\n",
       "      <th>0</th>\n",
       "      <td>2023</td>\n",
       "      <td>Alabama</td>\n",
       "      <td>92.6</td>\n",
       "      <td>16.0</td>\n",
       "      <td>12</td>\n",
       "      <td>4</td>\n",
       "      <td>32</td>\n",
       "      <td>19</td>\n",
       "      <td>5</td>\n",
       "      <td>3</td>\n",
       "      <td>...</td>\n",
       "      <td>79.379</td>\n",
       "      <td>1.827</td>\n",
       "      <td>1.583</td>\n",
       "      <td>71.7</td>\n",
       "      <td>71.7</td>\n",
       "      <td>1.027</td>\n",
       "      <td>1.086</td>\n",
       "      <td>10.569</td>\n",
       "      <td>-13.1</td>\n",
       "      <td>21</td>\n",
       "    </tr>\n",
       "    <tr>\n",
       "      <th>1</th>\n",
       "      <td>2023</td>\n",
       "      <td>Maryland</td>\n",
       "      <td>84.5</td>\n",
       "      <td>180.0</td>\n",
       "      <td>335</td>\n",
       "      <td>312</td>\n",
       "      <td>56</td>\n",
       "      <td>35</td>\n",
       "      <td>60</td>\n",
       "      <td>33</td>\n",
       "      <td>...</td>\n",
       "      <td>80.522</td>\n",
       "      <td>2.140</td>\n",
       "      <td>55.266</td>\n",
       "      <td>72.5</td>\n",
       "      <td>71.7</td>\n",
       "      <td>1.059</td>\n",
       "      <td>0.978</td>\n",
       "      <td>34.920</td>\n",
       "      <td>2.9</td>\n",
       "      <td>2</td>\n",
       "    </tr>\n",
       "    <tr>\n",
       "      <th>2</th>\n",
       "      <td>2023</td>\n",
       "      <td>San Diego St.</td>\n",
       "      <td>86.0</td>\n",
       "      <td>136.0</td>\n",
       "      <td>254</td>\n",
       "      <td>252</td>\n",
       "      <td>99</td>\n",
       "      <td>64</td>\n",
       "      <td>23</td>\n",
       "      <td>10</td>\n",
       "      <td>...</td>\n",
       "      <td>79.581</td>\n",
       "      <td>1.927</td>\n",
       "      <td>11.050</td>\n",
       "      <td>70.8</td>\n",
       "      <td>71.2</td>\n",
       "      <td>1.005</td>\n",
       "      <td>1.039</td>\n",
       "      <td>12.398</td>\n",
       "      <td>-11.1</td>\n",
       "      <td>6</td>\n",
       "    </tr>\n",
       "    <tr>\n",
       "      <th>3</th>\n",
       "      <td>2023</td>\n",
       "      <td>Virginia</td>\n",
       "      <td>83.8</td>\n",
       "      <td>205.0</td>\n",
       "      <td>360</td>\n",
       "      <td>360</td>\n",
       "      <td>70</td>\n",
       "      <td>74</td>\n",
       "      <td>38</td>\n",
       "      <td>25</td>\n",
       "      <td>...</td>\n",
       "      <td>79.761</td>\n",
       "      <td>1.913</td>\n",
       "      <td>8.005</td>\n",
       "      <td>72.2</td>\n",
       "      <td>72.1</td>\n",
       "      <td>1.048</td>\n",
       "      <td>1.060</td>\n",
       "      <td>11.283</td>\n",
       "      <td>-11.0</td>\n",
       "      <td>-1</td>\n",
       "    </tr>\n",
       "    <tr>\n",
       "      <th>4</th>\n",
       "      <td>2023</td>\n",
       "      <td>Creighton</td>\n",
       "      <td>87.6</td>\n",
       "      <td>92.0</td>\n",
       "      <td>104</td>\n",
       "      <td>149</td>\n",
       "      <td>47</td>\n",
       "      <td>28</td>\n",
       "      <td>61</td>\n",
       "      <td>15</td>\n",
       "      <td>...</td>\n",
       "      <td>80.994</td>\n",
       "      <td>1.845</td>\n",
       "      <td>54.653</td>\n",
       "      <td>74.3</td>\n",
       "      <td>72.9</td>\n",
       "      <td>1.069</td>\n",
       "      <td>1.039</td>\n",
       "      <td>23.425</td>\n",
       "      <td>-3.6</td>\n",
       "      <td>9</td>\n",
       "    </tr>\n",
       "  </tbody>\n",
       "</table>\n",
       "<p>5 rows × 244 columns</p>\n",
       "</div>"
      ],
      "text/plain": [
       "   year    TEAM 1 Name  TEAM 1 (Team) 538 Power Rating  \\\n",
       "0  2023        Alabama                            92.6   \n",
       "1  2023       Maryland                            84.5   \n",
       "2  2023  San Diego St.                            86.0   \n",
       "3  2023       Virginia                            83.8   \n",
       "4  2023      Creighton                            87.6   \n",
       "\n",
       "   TEAM 1 (Team) 538 Power Rank  TEAM 1 (Team) K TEMPO RANK  \\\n",
       "0                          16.0                          12   \n",
       "1                         180.0                         335   \n",
       "2                         136.0                         254   \n",
       "3                         205.0                         360   \n",
       "4                          92.0                         104   \n",
       "\n",
       "   TEAM 1 (Team) KADJ T RANK  TEAM 1 (Team) KO RANK  \\\n",
       "0                          4                     32   \n",
       "1                        312                     56   \n",
       "2                        252                     99   \n",
       "3                        360                     70   \n",
       "4                        149                     47   \n",
       "\n",
       "   TEAM 1 (Team) KADJ O RANK  TEAM 1 (Team) KD RANK  \\\n",
       "0                         19                      5   \n",
       "1                         35                     60   \n",
       "2                         64                     23   \n",
       "3                         74                     38   \n",
       "4                         28                     61   \n",
       "\n",
       "   TEAM 1 (Team) KADJ D RANK  ...  TEAM 2 (Conference) EFF HGT  \\\n",
       "0                          3  ...                       79.379   \n",
       "1                         33  ...                       80.522   \n",
       "2                         10  ...                       79.581   \n",
       "3                         25  ...                       79.761   \n",
       "4                         15  ...                       80.994   \n",
       "\n",
       "   TEAM 2 (Conference) EXP  TEAM 2 (Conference) TALENT  \\\n",
       "0                    1.827                       1.583   \n",
       "1                    2.140                      55.266   \n",
       "2                    1.927                      11.050   \n",
       "3                    1.913                       8.005   \n",
       "4                    1.845                      54.653   \n",
       "\n",
       "   TEAM 2 (Conference) FT%  TEAM 2 (Conference) OP FT%  \\\n",
       "0                     71.7                        71.7   \n",
       "1                     72.5                        71.7   \n",
       "2                     70.8                        71.2   \n",
       "3                     72.2                        72.1   \n",
       "4                     74.3                        72.9   \n",
       "\n",
       "   TEAM 2 (Conference) PPPO  TEAM 2 (Conference) PPPD  \\\n",
       "0                     1.027                     1.086   \n",
       "1                     1.059                     0.978   \n",
       "2                     1.005                     1.039   \n",
       "3                     1.048                     1.060   \n",
       "4                     1.069                     1.039   \n",
       "\n",
       "   TEAM 2 (Conference) ELITE SOS  TEAM 2 (Conference) WAB  \\\n",
       "0                         10.569                    -13.1   \n",
       "1                         34.920                      2.9   \n",
       "2                         12.398                    -11.1   \n",
       "3                         11.283                    -11.0   \n",
       "4                         23.425                     -3.6   \n",
       "\n",
       "   Margin of Victory/Defeat  \n",
       "0                        21  \n",
       "1                         2  \n",
       "2                         6  \n",
       "3                        -1  \n",
       "4                         9  \n",
       "\n",
       "[5 rows x 244 columns]"
      ]
     },
     "execution_count": 21,
     "metadata": {},
     "output_type": "execute_result"
    }
   ],
   "source": [
    "game_df = pd.read_csv(\"csv_files/games-with-all-stats.csv\")\n",
    "game_df.head()"
   ]
  },
  {
   "cell_type": "code",
   "execution_count": 22,
   "metadata": {},
   "outputs": [],
   "source": [
    "# Y axis remains the same\n",
    "y_axis = \"Margin of Victory/Defeat\"\n",
    "score_differential = game_df[y_axis].to_list()\n",
    "\n"
   ]
  },
  {
   "cell_type": "code",
   "execution_count": 32,
   "metadata": {},
   "outputs": [
    {
     "data": {
      "text/plain": [
       "<Figure size 640x480 with 0 Axes>"
      ]
     },
     "metadata": {},
     "output_type": "display_data"
    }
   ],
   "source": [
    "from Team import Team\n",
    "from LinearRegression import get_line_of_best_fit\n",
    "\n",
    "# Keep track of r_squareds and fields\n",
    "r_squared_list = list()\n",
    "\n",
    "for field in Team.STATS_538_FIELDS:\n",
    "    diff_x = (game_df[\"TEAM 1 \" + field] - game_df[\"TEAM 2 \" + field]).to_list()\n",
    "    x_axis = field.replace(\"(Team) \",\"\") + \" Difference\"\n",
    "    slope, y_intercept, r_squared = get_line_of_best_fit(diff_x, score_differential, x_axis)\n",
    "    \n",
    "    r_squared_list.append((r_squared, field))\n",
    "    \n",
    "\n",
    "\n",
    "    "
   ]
  },
  {
   "cell_type": "code",
   "execution_count": 33,
   "metadata": {},
   "outputs": [
    {
     "data": {
      "text/plain": [
       "<Figure size 640x480 with 0 Axes>"
      ]
     },
     "metadata": {},
     "output_type": "display_data"
    }
   ],
   "source": [
    "for field in Team.KENPOM_FIELDS:\n",
    "    diff_x = (game_df[\"TEAM 1 \" + field] - game_df[\"TEAM 2 \" + field]).to_list()\n",
    "    x_axis = field.replace(\"(Team) \",\"\") + \" Difference\"\n",
    "    slope, y_intercept, r_squared = get_line_of_best_fit(diff_x, score_differential, x_axis)\n",
    "    \n",
    "    r_squared_list.append((r_squared, field))\n",
    "\n"
   ]
  },
  {
   "cell_type": "code",
   "execution_count": 34,
   "metadata": {},
   "outputs": [
    {
     "data": {
      "text/plain": [
       "<Figure size 640x480 with 0 Axes>"
      ]
     },
     "metadata": {},
     "output_type": "display_data"
    }
   ],
   "source": [
    "for field in Team.HISTORIC_TEAM_FIELDS:\n",
    "    diff_x = (game_df[\"TEAM 1 \" + field] - game_df[\"TEAM 2 \" + field]).to_list()\n",
    "    x_axis = field.replace(\"(Historic Team) \",\"\") + \" Difference\"\n",
    "    slope, y_intercept, r_squared = get_line_of_best_fit(diff_x, score_differential, x_axis)\n",
    "    \n",
    "    r_squared_list.append((r_squared, field))"
   ]
  },
  {
   "cell_type": "code",
   "execution_count": 35,
   "metadata": {},
   "outputs": [
    {
     "data": {
      "text/plain": [
       "<Figure size 640x480 with 0 Axes>"
      ]
     },
     "metadata": {},
     "output_type": "display_data"
    }
   ],
   "source": [
    "for field in Team.SHOOTING_SPLITS_FIELDS:\n",
    "    diff_x = (game_df[\"TEAM 1 \" + field] - game_df[\"TEAM 2 \" + field]).to_list()\n",
    "    x_axis = field.replace(\"(Shooting Splits) \",\"\") + \" Difference\"\n",
    "    slope, y_intercept, r_squared = get_line_of_best_fit(diff_x, score_differential, x_axis)\n",
    "    \n",
    "    r_squared_list.append((r_squared, field))\n",
    "\n"
   ]
  },
  {
   "cell_type": "code",
   "execution_count": 36,
   "metadata": {},
   "outputs": [
    {
     "data": {
      "text/plain": [
       "<Figure size 640x480 with 0 Axes>"
      ]
     },
     "metadata": {},
     "output_type": "display_data"
    }
   ],
   "source": [
    "for field in Team.RESUME_FIELDS:\n",
    "    diff_x = (game_df[\"TEAM 1 \" + field] - game_df[\"TEAM 2 \" + field]).to_list()\n",
    "    x_axis = field.replace(\"(Resumes) \",\"\") + \" Difference\"\n",
    "    slope, y_intercept, r_squared = get_line_of_best_fit(diff_x, score_differential, x_axis)\n",
    "    \n",
    "    r_squared_list.append((r_squared, field))\n",
    "\n"
   ]
  },
  {
   "cell_type": "code",
   "execution_count": 37,
   "metadata": {},
   "outputs": [
    {
     "data": {
      "text/plain": [
       "<Figure size 640x480 with 0 Axes>"
      ]
     },
     "metadata": {},
     "output_type": "display_data"
    }
   ],
   "source": [
    "from Conference import Conference\n",
    "\n",
    "for field in Conference.CONFERENCE_FIELDS:\n",
    "    diff_x = (game_df[\"TEAM 1 \" + field] - game_df[\"TEAM 2 \" + field]).to_list()\n",
    "    x_axis = field.replace(\"(Conference) \",\"Conf \") + \" Difference\"\n",
    "    slope, y_intercept, r_squared = get_line_of_best_fit(diff_x, score_differential, x_axis)\n",
    "    \n",
    "    r_squared_list.append((r_squared, field))"
   ]
  },
  {
   "cell_type": "code",
   "execution_count": 40,
   "metadata": {},
   "outputs": [
    {
     "data": {
      "text/plain": [
       "<Figure size 640x480 with 0 Axes>"
      ]
     },
     "metadata": {},
     "output_type": "display_data"
    }
   ],
   "source": [
    "from Seed import Seed\n",
    "\n",
    "for field in Seed.SEED_FIELDS:\n",
    "    diff_x = (game_df[\"TEAM 1 \" + field] - game_df[\"TEAM 2 \" + field]).to_list()\n",
    "    x_axis = field.replace(\"(Seed) \",\"Seed \") + \" Difference\"\n",
    "    slope, y_intercept, r_squared = get_line_of_best_fit(diff_x, score_differential, x_axis)\n",
    "    \n",
    "    r_squared_list.append((r_squared, field))"
   ]
  },
  {
   "cell_type": "code",
   "execution_count": 41,
   "metadata": {},
   "outputs": [
    {
     "data": {
      "text/plain": [
       "[(np.float64(0.3122971012970416), '(Team) 538 Power Rating'),\n",
       " (np.float64(0.28977226097103886), '(Team) BARTHAG RANK'),\n",
       " (np.float64(0.28888432676363635), '(Team) BADJ EM RANK'),\n",
       " (np.float64(0.2888751858773477), '(Team) 538 Power Rank'),\n",
       " (np.float64(0.2852716770976465), '(Historic Team) 538 Rating median'),\n",
       " (np.float64(0.28179894018456997), '(Historic Team) 538 Rating mean'),\n",
       " (np.float64(0.2791472352081764), '(Resumes) B POWER'),\n",
       " (np.float64(0.2741121527285977), '(Team) KADJ EM RANK'),\n",
       " (np.float64(0.2687418642668457), '(Seed) 538 Mean'),\n",
       " (np.float64(0.2675700904773948), '(Seed) 538 Median')]"
      ]
     },
     "execution_count": 41,
     "metadata": {},
     "output_type": "execute_result"
    }
   ],
   "source": [
    "# Sort r_squared list \n",
    "sorted_rsquared_list = sorted(r_squared_list, key=lambda x: x[0], reverse=True)\n",
    "\n",
    "sorted_rsquared_list[:10]"
   ]
  },
  {
   "cell_type": "code",
   "execution_count": null,
   "metadata": {},
   "outputs": [],
   "source": []
  }
 ],
 "metadata": {
  "kernelspec": {
   "display_name": "Python 3",
   "language": "python",
   "name": "python3"
  },
  "language_info": {
   "codemirror_mode": {
    "name": "ipython",
    "version": 3
   },
   "file_extension": ".py",
   "mimetype": "text/x-python",
   "name": "python",
   "nbconvert_exporter": "python",
   "pygments_lexer": "ipython3",
   "version": "3.10.15"
  }
 },
 "nbformat": 4,
 "nbformat_minor": 2
}
