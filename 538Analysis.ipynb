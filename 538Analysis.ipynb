{
 "cells": [
  {
   "cell_type": "code",
   "execution_count": 29,
   "id": "be5f7d38",
   "metadata": {},
   "outputs": [
    {
     "name": "stdout",
     "output_type": "stream",
     "text": [
      "Requirement already satisfied: pandas in /Users/srikharpadmanabhan/.pyenv/versions/3.10.15/lib/python3.10/site-packages (2.2.3)\n",
      "Requirement already satisfied: tzdata>=2022.7 in /Users/srikharpadmanabhan/.pyenv/versions/3.10.15/lib/python3.10/site-packages (from pandas) (2024.2)\n",
      "Requirement already satisfied: numpy>=1.22.4 in /Users/srikharpadmanabhan/.pyenv/versions/3.10.15/lib/python3.10/site-packages (from pandas) (2.1.3)\n",
      "Requirement already satisfied: pytz>=2020.1 in /Users/srikharpadmanabhan/.pyenv/versions/3.10.15/lib/python3.10/site-packages (from pandas) (2024.2)\n",
      "Requirement already satisfied: python-dateutil>=2.8.2 in /Users/srikharpadmanabhan/.pyenv/versions/3.10.15/lib/python3.10/site-packages (from pandas) (2.9.0.post0)\n",
      "Requirement already satisfied: six>=1.5 in /Users/srikharpadmanabhan/.pyenv/versions/3.10.15/lib/python3.10/site-packages (from python-dateutil>=2.8.2->pandas) (1.16.0)\n",
      "\n",
      "\u001b[1m[\u001b[0m\u001b[34;49mnotice\u001b[0m\u001b[1;39;49m]\u001b[0m\u001b[39;49m A new release of pip is available: \u001b[0m\u001b[31;49m23.0.1\u001b[0m\u001b[39;49m -> \u001b[0m\u001b[32;49m24.3.1\u001b[0m\n",
      "\u001b[1m[\u001b[0m\u001b[34;49mnotice\u001b[0m\u001b[1;39;49m]\u001b[0m\u001b[39;49m To update, run: \u001b[0m\u001b[32;49mpip install --upgrade pip\u001b[0m\n"
     ]
    }
   ],
   "source": [
    "# Install pandas\n",
    "!pip3 install pandas"
   ]
  },
  {
   "cell_type": "code",
   "execution_count": 49,
   "id": "7605ced2",
   "metadata": {},
   "outputs": [],
   "source": [
    "# Importing Pandas and CSV to read in the data\n",
    "import pandas as pd\n",
    "import csv\n",
    "\n"
   ]
  },
  {
   "cell_type": "code",
   "execution_count": 50,
   "id": "44a29531",
   "metadata": {},
   "outputs": [],
   "source": [
    "# Get 538 Ratings\n",
    "ratings_538_df = pd.read_csv(\"MM Data/538 Ratings.csv\")"
   ]
  },
  {
   "cell_type": "code",
   "execution_count": 51,
   "id": "795875a6",
   "metadata": {},
   "outputs": [
    {
     "name": "stdout",
     "output_type": "stream",
     "text": [
      "476\n"
     ]
    },
    {
     "data": {
      "text/html": [
       "<div>\n",
       "<style scoped>\n",
       "    .dataframe tbody tr th:only-of-type {\n",
       "        vertical-align: middle;\n",
       "    }\n",
       "\n",
       "    .dataframe tbody tr th {\n",
       "        vertical-align: top;\n",
       "    }\n",
       "\n",
       "    .dataframe thead th {\n",
       "        text-align: right;\n",
       "    }\n",
       "</style>\n",
       "<table border=\"1\" class=\"dataframe\">\n",
       "  <thead>\n",
       "    <tr style=\"text-align: right;\">\n",
       "      <th></th>\n",
       "      <th>YEAR</th>\n",
       "      <th>TEAM NO</th>\n",
       "      <th>TEAM</th>\n",
       "      <th>SEED</th>\n",
       "      <th>ROUND</th>\n",
       "      <th>POWER RATING</th>\n",
       "      <th>POWER RATING RANK</th>\n",
       "    </tr>\n",
       "  </thead>\n",
       "  <tbody>\n",
       "    <tr>\n",
       "      <th>0</th>\n",
       "      <td>2023</td>\n",
       "      <td>993</td>\n",
       "      <td>Houston</td>\n",
       "      <td>1</td>\n",
       "      <td>16</td>\n",
       "      <td>93.2</td>\n",
       "      <td>13</td>\n",
       "    </tr>\n",
       "    <tr>\n",
       "      <th>1</th>\n",
       "      <td>2023</td>\n",
       "      <td>1011</td>\n",
       "      <td>Alabama</td>\n",
       "      <td>1</td>\n",
       "      <td>16</td>\n",
       "      <td>92.6</td>\n",
       "      <td>16</td>\n",
       "    </tr>\n",
       "    <tr>\n",
       "      <th>2</th>\n",
       "      <td>2023</td>\n",
       "      <td>986</td>\n",
       "      <td>Kansas</td>\n",
       "      <td>1</td>\n",
       "      <td>32</td>\n",
       "      <td>89.6</td>\n",
       "      <td>49</td>\n",
       "    </tr>\n",
       "    <tr>\n",
       "      <th>3</th>\n",
       "      <td>2023</td>\n",
       "      <td>963</td>\n",
       "      <td>Purdue</td>\n",
       "      <td>1</td>\n",
       "      <td>64</td>\n",
       "      <td>89.5</td>\n",
       "      <td>50</td>\n",
       "    </tr>\n",
       "    <tr>\n",
       "      <th>4</th>\n",
       "      <td>2023</td>\n",
       "      <td>957</td>\n",
       "      <td>Texas</td>\n",
       "      <td>2</td>\n",
       "      <td>8</td>\n",
       "      <td>90.1</td>\n",
       "      <td>43</td>\n",
       "    </tr>\n",
       "  </tbody>\n",
       "</table>\n",
       "</div>"
      ],
      "text/plain": [
       "   YEAR  TEAM NO     TEAM  SEED  ROUND  POWER RATING  POWER RATING RANK\n",
       "0  2023      993  Houston     1     16          93.2                 13\n",
       "1  2023     1011  Alabama     1     16          92.6                 16\n",
       "2  2023      986   Kansas     1     32          89.6                 49\n",
       "3  2023      963   Purdue     1     64          89.5                 50\n",
       "4  2023      957    Texas     2      8          90.1                 43"
      ]
     },
     "execution_count": 51,
     "metadata": {},
     "output_type": "execute_result"
    }
   ],
   "source": [
    "print(len(ratings_538_df))\n",
    "\n",
    "ratings_538_df.head(5)"
   ]
  },
  {
   "cell_type": "code",
   "execution_count": 52,
   "id": "aa23141c",
   "metadata": {},
   "outputs": [
    {
     "name": "stdout",
     "output_type": "stream",
     "text": [
      "538 Years: {2016, 2017, 2018, 2019, 2021, 2022, 2023}\n",
      "Number of Teams: 188\n"
     ]
    }
   ],
   "source": [
    "# Get some summary statistics\n",
    "\n",
    "years_538 = set(ratings_538_df[\"YEAR\"])\n",
    "teams_538 = set(ratings_538_df[\"TEAM\"])\n",
    "\n",
    "print(\"538 Years:\", years_538)\n",
    "print(\"Number of Teams:\", len(teams_538))\n"
   ]
  },
  {
   "cell_type": "code",
   "execution_count": 53,
   "id": "fb3a14c6",
   "metadata": {},
   "outputs": [],
   "source": [
    "# Group by team name and look at power rating statistics ()\n",
    "team_power_ratings = ratings_538_df.groupby(\"TEAM\")[\"POWER RATING\"].agg(\n",
    "    size=\"size\",\n",
    "    mean=\"mean\",\n",
    "    median=\"median\",\n",
    "    range=lambda x: x.max() - x.min()\n",
    ")\n",
    "\n",
    "#Sort by mean\n",
    "team_power_ratings = team_power_ratings.sort_values(by=\"mean\", ascending=False)"
   ]
  },
  {
   "cell_type": "code",
   "execution_count": 54,
   "id": "ddb65ba5",
   "metadata": {},
   "outputs": [
    {
     "data": {
      "text/plain": [
       "(                size       mean  median  range\n",
       " TEAM                                          \n",
       " Gonzaga            7  92.442857   93.70   10.5\n",
       " Duke               6  90.816667   90.80    9.2\n",
       " Villanova          6  90.450000   90.75   10.4\n",
       " Virginia           6  90.450000   91.25   11.4\n",
       " Kentucky           6  89.950000   90.95    6.3\n",
       " North Carolina     6  89.916667   91.15    9.9\n",
       " Kansas             7  89.814286   90.90   11.0\n",
       " Houston            5  89.420000   88.70    7.0\n",
       " Arizona            5  89.160000   89.00    3.0\n",
       " Purdue             7  88.928571   89.00    4.6,\n",
       "                         size       mean  median  range\n",
       " TEAM                                                  \n",
       " Texas Southern             5  68.940000    68.8    4.4\n",
       " Austin Peay                1  68.800000    68.8    0.0\n",
       " Texas A&M Corpus Chris     2  68.600000    68.6    2.6\n",
       " Hampton                    1  68.600000    68.6    0.0\n",
       " Southern                   1  68.000000    68.0    0.0\n",
       " Southeast Missouri St.     1  67.700000    67.7    0.0\n",
       " LIU Brooklyn               1  67.600000    67.6    0.0\n",
       " North Carolina Central     3  67.266667    65.5    5.7\n",
       " Fairleigh Dickinson        3  66.900000    66.7    5.2\n",
       " Holy Cross                 1  66.800000    66.8    0.0)"
      ]
     },
     "execution_count": 54,
     "metadata": {},
     "output_type": "execute_result"
    }
   ],
   "source": [
    "team_power_ratings.head(10), team_power_ratings.tail(10)"
   ]
  },
  {
   "cell_type": "code",
   "execution_count": 55,
   "id": "1e7703cb",
   "metadata": {},
   "outputs": [],
   "source": [
    "# Also look at seed power ratings (Most likely seed will follow ratings (higher rating lower seed))\n",
    "\n",
    "# Group by team name to see \n",
    "seed_power_ratings = ratings_538_df.groupby(\"SEED\")[\"POWER RATING\"].agg(\n",
    "    size=\"size\",\n",
    "    mean=\"mean\",\n",
    "    median=\"median\",\n",
    "    range=lambda x: x.max() - x.min()\n",
    ")\n",
    "\n",
    "#Sort by mean\n",
    "seed_power_ratings = seed_power_ratings.sort_values(by=\"mean\", ascending=False)"
   ]
  },
  {
   "cell_type": "code",
   "execution_count": 56,
   "id": "8558a932",
   "metadata": {},
   "outputs": [
    {
     "data": {
      "text/html": [
       "<div>\n",
       "<style scoped>\n",
       "    .dataframe tbody tr th:only-of-type {\n",
       "        vertical-align: middle;\n",
       "    }\n",
       "\n",
       "    .dataframe tbody tr th {\n",
       "        vertical-align: top;\n",
       "    }\n",
       "\n",
       "    .dataframe thead th {\n",
       "        text-align: right;\n",
       "    }\n",
       "</style>\n",
       "<table border=\"1\" class=\"dataframe\">\n",
       "  <thead>\n",
       "    <tr style=\"text-align: right;\">\n",
       "      <th></th>\n",
       "      <th>size</th>\n",
       "      <th>mean</th>\n",
       "      <th>median</th>\n",
       "      <th>range</th>\n",
       "    </tr>\n",
       "    <tr>\n",
       "      <th>SEED</th>\n",
       "      <th></th>\n",
       "      <th></th>\n",
       "      <th></th>\n",
       "      <th></th>\n",
       "    </tr>\n",
       "  </thead>\n",
       "  <tbody>\n",
       "    <tr>\n",
       "      <th>1</th>\n",
       "      <td>29</td>\n",
       "      <td>92.475862</td>\n",
       "      <td>93.10</td>\n",
       "      <td>8.8</td>\n",
       "    </tr>\n",
       "    <tr>\n",
       "      <th>2</th>\n",
       "      <td>28</td>\n",
       "      <td>90.400000</td>\n",
       "      <td>90.70</td>\n",
       "      <td>5.0</td>\n",
       "    </tr>\n",
       "    <tr>\n",
       "      <th>3</th>\n",
       "      <td>27</td>\n",
       "      <td>87.414815</td>\n",
       "      <td>87.20</td>\n",
       "      <td>8.2</td>\n",
       "    </tr>\n",
       "    <tr>\n",
       "      <th>4</th>\n",
       "      <td>29</td>\n",
       "      <td>87.244828</td>\n",
       "      <td>86.90</td>\n",
       "      <td>8.1</td>\n",
       "    </tr>\n",
       "    <tr>\n",
       "      <th>5</th>\n",
       "      <td>27</td>\n",
       "      <td>86.414815</td>\n",
       "      <td>86.40</td>\n",
       "      <td>8.8</td>\n",
       "    </tr>\n",
       "    <tr>\n",
       "      <th>6</th>\n",
       "      <td>28</td>\n",
       "      <td>85.542857</td>\n",
       "      <td>85.65</td>\n",
       "      <td>7.3</td>\n",
       "    </tr>\n",
       "    <tr>\n",
       "      <th>7</th>\n",
       "      <td>28</td>\n",
       "      <td>83.678571</td>\n",
       "      <td>83.55</td>\n",
       "      <td>9.8</td>\n",
       "    </tr>\n",
       "    <tr>\n",
       "      <th>8</th>\n",
       "      <td>28</td>\n",
       "      <td>83.292857</td>\n",
       "      <td>83.40</td>\n",
       "      <td>9.3</td>\n",
       "    </tr>\n",
       "    <tr>\n",
       "      <th>9</th>\n",
       "      <td>28</td>\n",
       "      <td>82.928571</td>\n",
       "      <td>82.70</td>\n",
       "      <td>7.5</td>\n",
       "    </tr>\n",
       "    <tr>\n",
       "      <th>10</th>\n",
       "      <td>28</td>\n",
       "      <td>82.814286</td>\n",
       "      <td>82.85</td>\n",
       "      <td>10.4</td>\n",
       "    </tr>\n",
       "    <tr>\n",
       "      <th>11</th>\n",
       "      <td>41</td>\n",
       "      <td>81.800000</td>\n",
       "      <td>81.70</td>\n",
       "      <td>9.0</td>\n",
       "    </tr>\n",
       "    <tr>\n",
       "      <th>12</th>\n",
       "      <td>29</td>\n",
       "      <td>79.944828</td>\n",
       "      <td>79.90</td>\n",
       "      <td>6.4</td>\n",
       "    </tr>\n",
       "    <tr>\n",
       "      <th>13</th>\n",
       "      <td>28</td>\n",
       "      <td>77.978571</td>\n",
       "      <td>78.00</td>\n",
       "      <td>4.8</td>\n",
       "    </tr>\n",
       "    <tr>\n",
       "      <th>14</th>\n",
       "      <td>28</td>\n",
       "      <td>75.992857</td>\n",
       "      <td>75.85</td>\n",
       "      <td>7.7</td>\n",
       "    </tr>\n",
       "    <tr>\n",
       "      <th>15</th>\n",
       "      <td>28</td>\n",
       "      <td>73.692857</td>\n",
       "      <td>73.30</td>\n",
       "      <td>5.1</td>\n",
       "    </tr>\n",
       "    <tr>\n",
       "      <th>16</th>\n",
       "      <td>42</td>\n",
       "      <td>69.771429</td>\n",
       "      <td>69.90</td>\n",
       "      <td>11.2</td>\n",
       "    </tr>\n",
       "  </tbody>\n",
       "</table>\n",
       "</div>"
      ],
      "text/plain": [
       "      size       mean  median  range\n",
       "SEED                                \n",
       "1       29  92.475862   93.10    8.8\n",
       "2       28  90.400000   90.70    5.0\n",
       "3       27  87.414815   87.20    8.2\n",
       "4       29  87.244828   86.90    8.1\n",
       "5       27  86.414815   86.40    8.8\n",
       "6       28  85.542857   85.65    7.3\n",
       "7       28  83.678571   83.55    9.8\n",
       "8       28  83.292857   83.40    9.3\n",
       "9       28  82.928571   82.70    7.5\n",
       "10      28  82.814286   82.85   10.4\n",
       "11      41  81.800000   81.70    9.0\n",
       "12      29  79.944828   79.90    6.4\n",
       "13      28  77.978571   78.00    4.8\n",
       "14      28  75.992857   75.85    7.7\n",
       "15      28  73.692857   73.30    5.1\n",
       "16      42  69.771429   69.90   11.2"
      ]
     },
     "execution_count": 56,
     "metadata": {},
     "output_type": "execute_result"
    }
   ],
   "source": [
    "seed_power_ratings.head(16)"
   ]
  },
  {
   "cell_type": "code",
   "execution_count": 57,
   "id": "e383bf79",
   "metadata": {},
   "outputs": [
    {
     "data": {
      "text/plain": [
       "476"
      ]
     },
     "execution_count": 57,
     "metadata": {},
     "output_type": "execute_result"
    }
   ],
   "source": [
    "sum(seed_power_ratings[\"size\"])"
   ]
  },
  {
   "cell_type": "code",
   "execution_count": 58,
   "id": "1fbef2dd",
   "metadata": {},
   "outputs": [
    {
     "name": "stdout",
     "output_type": "stream",
     "text": [
      "[('Gonzaga', {'size': 7, 'mean': 92.44285714285715, 'median': 93.7, 'range': 10.5}), ('Duke', {'size': 6, 'mean': 90.81666666666666, 'median': 90.8, 'range': 9.200000000000003}), ('Villanova', {'size': 6, 'mean': 90.45, 'median': 90.75, 'range': 10.400000000000006}), ('Virginia', {'size': 6, 'mean': 90.45, 'median': 91.25, 'range': 11.400000000000006}), ('Kentucky', {'size': 6, 'mean': 89.95, 'median': 90.95, 'range': 6.299999999999997})]\n",
      "[(1, {'size': 29, 'mean': 92.47586206896553, 'median': 93.1, 'range': 8.799999999999997}), (2, {'size': 28, 'mean': 90.39999999999999, 'median': 90.69999999999999, 'range': 5.0}), (3, {'size': 27, 'mean': 87.4148148148148, 'median': 87.2, 'range': 8.200000000000003}), (4, {'size': 29, 'mean': 87.2448275862069, 'median': 86.9, 'range': 8.099999999999994}), (5, {'size': 27, 'mean': 86.4148148148148, 'median': 86.4, 'range': 8.799999999999997})]\n",
      "188\n"
     ]
    }
   ],
   "source": [
    "import pickle\n",
    "\n",
    "# Convert aggregated statistics to dictionary\n",
    "\n",
    "team_dict = team_power_ratings.to_dict(\"index\")\n",
    "seed_dict = seed_power_ratings.to_dict(\"index\")\n",
    "\n",
    "# Dump data into pickle file\n",
    "with open('pickle_files/538-historic-team-data.pkl', 'wb') as team_file:\n",
    "    pickle.dump(team_dict, team_file, protocol=pickle.HIGHEST_PROTOCOL)\n",
    "    \n",
    "with open('pickle_files/538-historic-seed-data.pkl', 'wb') as seed_file:\n",
    "    pickle.dump(seed_dict, seed_file, protocol=pickle.HIGHEST_PROTOCOL)\n",
    "\n",
    "print(list(team_dict.items())[:5])\n",
    "print(list(seed_dict.items())[:5])\n",
    "print(len(team_dict))\n",
    "\n"
   ]
  },
  {
   "cell_type": "code",
   "execution_count": 59,
   "id": "a840150b",
   "metadata": {},
   "outputs": [],
   "source": [
    "# create overall dictionary to hold 538 ratings data\n",
    "overall_538_ratings_dict = dict()\n",
    "\n",
    "\n",
    "\n",
    "# Store 538 Analysis csv in dictionary and save as pkl file\n",
    "for _, row in ratings_538_df.iterrows():\n",
    "    team_row = row.to_dict()\n",
    "    \n",
    "    overall_538_ratings_dict[(team_row[\"TEAM\"], team_row[\"YEAR\"])] = {\n",
    "        \"538 Power Rating\": team_row[\"POWER RATING\"],\n",
    "        \"538 Power Rank\": team_row[\"POWER RATING RANK\"]\n",
    "    }\n",
    "    \n",
    "\n",
    "# Dump data into pickle file\n",
    "with open('pickle_files/538-season-team-data.pkl', 'wb') as single_season_team_file:\n",
    "    pickle.dump(overall_538_ratings_dict, single_season_team_file, protocol=pickle.HIGHEST_PROTOCOL)\n",
    "    \n",
    "\n",
    "\n"
   ]
  },
  {
   "cell_type": "code",
   "execution_count": null,
   "id": "d8afd526",
   "metadata": {},
   "outputs": [],
   "source": []
  }
 ],
 "metadata": {
  "kernelspec": {
   "display_name": "Python 3",
   "language": "python",
   "name": "python3"
  },
  "language_info": {
   "codemirror_mode": {
    "name": "ipython",
    "version": 3
   },
   "file_extension": ".py",
   "mimetype": "text/x-python",
   "name": "python",
   "nbconvert_exporter": "python",
   "pygments_lexer": "ipython3",
   "version": "3.10.15"
  }
 },
 "nbformat": 4,
 "nbformat_minor": 5
}
